{
 "cells": [
  {
   "cell_type": "markdown",
   "id": "0288e21a",
   "metadata": {},
   "source": [
    "# Проект\n",
    "\n",
    "В качестве проекта мы реализуем игру, которую вы будете совершенствовать в ходе прохождения модуля. В этом блокноте описано пошаговое ТЗ, вы можете скачать его к себе в репозиторий и писать код прямо здесь, или же создать новый файл у себя. После того как запушите выполненное или частично выполненное задание, пишите мне для проверки. Любые вопросы можете также задавать в личке или прямо в комментариях в коде.\n",
    "\n",
    "Для игры вы можете продумать полностью свой формат, здесь я накидаю скелет стандартного варианта. Ребята реализуют свои варианты, например автобатлер где битва происходит пати на пати, как в autochess, super auto pets, hearthstone: battlegrounds, и тд. Если собираетесь делать свою идею, опишите её в следующей ячейке вместо стандартного ТЗ."
   ]
  },
  {
   "cell_type": "markdown",
   "id": "a7abcaeb",
   "metadata": {},
   "source": [
    "#### 1. ТЗ\n",
    "\n",
    "пошаговая бродилка, можно перемещаться на wasd и вступать в драку с противниками, всё происходит на 2д поле, на котором можно определить любой объект по координатам. У персонажа задаётся атака, защита, хп, у противников тоже"
   ]
  },
  {
   "cell_type": "markdown",
   "id": "540546a9",
   "metadata": {},
   "source": [
    "### 2. Реализация\n",
    "\n",
    "В каждой ячейке нужно создать функцию, вы можете её переименовывать, в выводе ячеек показаны примеры работы\n",
    "\n",
    "Если вы реализуете механику отличную от предложенной мной, можете хоть всё сделать по-своему"
   ]
  },
  {
   "cell_type": "markdown",
   "id": "19859ac4",
   "metadata": {},
   "source": [
    "#### 2.1 Характеристики\n",
    "\n",
    "# Параметры персонажа\n",
    "health = 100      # Здоровье\n",
    "attack = 20       # Атака\n",
    "defense = 10      # Защита\n",
    "x = 5             # Координата X\n",
    "y = 3             # Координата Y"
   ]
  },
  {
   "cell_type": "code",
   "execution_count": 2,
   "id": "1c681bdf",
   "metadata": {},
   "outputs": [],
   "source": [
    "health = 100      # Здоровье\n",
    "attack = 20       # Атака\n",
    "defense = 10      # Защита\n",
    "player_x= 5             # Координата X\n",
    "player_y = 3             # Координата Y"
   ]
  },
  {
   "cell_type": "markdown",
   "id": "fa4049e5",
   "metadata": {},
   "source": [
    "#### 2.2 Поле\n",
    "\n",
    "Функция, которая отрисовывает поле, пусть принимает пока только координаты персонажа\n",
    "\n",
    "Параметры поля можно тоже передать либо сделать глобальными: ширина, высота, символ которым отмечать пустые пространства"
   ]
  },
  {
   "cell_type": "code",
   "execution_count": 3,
   "id": "4c89372f",
   "metadata": {},
   "outputs": [],
   "source": [
    "map_height=5\n",
    "map_width=5\n",
    "map_symbol='*'"
   ]
  },
  {
   "cell_type": "code",
   "execution_count": 4,
   "id": "95c216ff",
   "metadata": {},
   "outputs": [],
   "source": [
    "def draw(character_X, character_Y):\n",
    "    if character_X > map_width or character_X <= 0:\n",
    "        print('Указана неверная коррдината X')\n",
    "        return\n",
    "    if character_Y > map_height or character_Y <= 0:\n",
    "        print('Указана неверная коррдината Y')\n",
    "        return\n",
    "    for i in range(1, map_height+1):\n",
    "        row = ''\n",
    "        for j in range(1, map_width+1):\n",
    "            if j == character_X and i == character_Y:\n",
    "                row += 'C'  \n",
    "            else:\n",
    "                row += map_symbol\n",
    "        print(row)"
   ]
  },
  {
   "cell_type": "code",
   "execution_count": null,
   "id": "c7158089",
   "metadata": {},
   "outputs": [
    {
     "name": "stdout",
     "output_type": "stream",
     "text": [
      "*****\n",
      "*****\n",
      "****C\n",
      "*****\n",
      "*****\n"
     ]
    }
   ],
   "source": [
    "draw(player_x, player_y)"
   ]
  },
  {
   "cell_type": "markdown",
   "id": "c110ea21",
   "metadata": {},
   "source": [
    "#### 2.3 Перемещение\n",
    "\n",
    "У меня будет цикл который выполняется пока пользователь не введёт `q`, что будет означать выход\n",
    "\n",
    "Внутри в зависимости от нажатой клавиши wasd должны модифицироваться координаты персонажа\n",
    "\n",
    "Затем отрисоваться новое поле"
   ]
  },
  {
   "cell_type": "code",
   "execution_count": 9,
   "id": "e1ee7409",
   "metadata": {},
   "outputs": [
    {
     "name": "stdout",
     "output_type": "stream",
     "text": [
      "Управление: W (вверх), A (влево), S (вниз), D (вправо), Q (выход)\n",
      "Управление: W (вверх), A (влево), S (вниз), D (вправо), Q (выход)\n",
      "Неверная команда или выход за границы карты.\n",
      "\n",
      "**C**\n",
      "*****\n",
      "*****\n",
      "*****\n",
      "*****\n",
      "Игра окончена.\n"
     ]
    }
   ],
   "source": [
    "print(\"Управление: W (вверх), A (влево), S (вниз), D (вправо), Q (выход)\")\n",
    "\n",
    "user_input = input(\"Введите команду: \").strip().lower()\n",
    "if user_input not in ['w', 'a', 's', 'd', 'q']:\n",
    "    print(\"Управление: W (вверх), A (влево), S (вниз), D (вправо), Q (выход)\")\n",
    "\n",
    "while user_input != 'q':\n",
    "    moved = False  # флаг, чтобы знать, было ли корректное движение\n",
    "\n",
    "    if user_input == 'w' and player_y > 1:\n",
    "        player_y -= 1\n",
    "        moved = True\n",
    "    elif user_input == 's' and player_y < map_height:\n",
    "        player_y += 1\n",
    "        moved = True\n",
    "    elif user_input == 'a' and player_x > 1:\n",
    "        player_x -= 1\n",
    "        moved = True\n",
    "    elif user_input == 'd' and player_x < map_width:\n",
    "        player_x += 1\n",
    "        moved = True\n",
    "    else:\n",
    "        print(\"Неверная команда или выход за границы карты.\")\n",
    "\n",
    "    if moved:\n",
    "        print()\n",
    "        draw(player_x, player_y)\n",
    "\n",
    "    # Снова запрашиваем команду\n",
    "    user_input = input(\"Введите команду: \").strip().lower()\n",
    "\n",
    "print(\"Игра окончена.\")"
   ]
  },
  {
   "cell_type": "markdown",
   "id": "263f0aff",
   "metadata": {},
   "source": [
    "#### 2.4 Корнер-кейсы\n",
    "\n",
    "Корнер-кейсы это особые случаи когда алгоритм может повести себя неправильно, их нужно продумывать заранее, давайте обработаем такие корнер-кейсы:\n",
    "- что будет если персонаж уйдёт за поле? либо не даём ему двигаться дальше, либо он оказывается на противоположной стороне как в игре змейка, либо ваш вариант?\n",
    "- если пользователь введёт белеберду вместо команды, надо ему намекнуть что он не прав, и подсказать какие команды можно вводить\n",
    "\n",
    "Какие ещё есть корнер-кейсы? обработайте их в предыдущей ячейке"
   ]
  },
  {
   "cell_type": "markdown",
   "id": "28a49712",
   "metadata": {},
   "source": [
    "#### 2.5 Противники\n",
    "\n",
    "У вас может быть несколько противников со своими параметрами, или один противник который респавнится и становится сильнее каждый раз\n",
    "\n",
    "Я сделаю несколько противников, у всех будут одинаковые параметры, для этого создам список из списков по два элемента, где будут их координаты, и общие для всех константы атаки, защиты, хп\n",
    "\n",
    "Вы можете использовать это или сделать свои"
   ]
  },
  {
   "cell_type": "code",
   "execution_count": 10,
   "id": "2a385fb7",
   "metadata": {},
   "outputs": [],
   "source": [
    "enemies_coordinates = [\n",
    "    [1,1],\n",
    "    [2,2],\n",
    "]\n",
    "\n",
    "enemy_hp = 10\n",
    "enemy_atk = 1\n",
    "enemy_def = 5\n",
    "enemy_symbol = 'e'"
   ]
  },
  {
   "cell_type": "markdown",
   "id": "ce32e53f",
   "metadata": {},
   "source": [
    "Добавьте в функцию отрисовки отображение противников\n",
    "\n",
    "*вам нужно перезапустить ячейку с объявлением функции после того как вы её изменили*"
   ]
  },
  {
   "cell_type": "code",
   "execution_count": null,
   "id": "356b7a52",
   "metadata": {},
   "outputs": [],
   "source": [
    "def draw1(character_X, character_Y, enemies_coordinates):\n",
    "    if character_X > map_width or character_X <= 0:\n",
    "        print('Указана неверная координата X у героя')\n",
    "        return\n",
    "    if character_Y > map_height or character_Y <= 0:\n",
    "        print('Указана неверная координата Y у героя')\n",
    "        return\n",
    "\n",
    "    for enemy in enemies_coordinates:\n",
    "        ex, ey = enemy\n",
    "        if ex > map_width or ex <= 0:\n",
    "            print('Указана неверная координата X у противника')\n",
    "            return\n",
    "        if ey > map_height or ey <= 0:\n",
    "            print('Указана неверная координата Y у противника')\n",
    "            return\n",
    "\n",
    "    for i in range(1, map_height + 1):\n",
    "        row = ''\n",
    "        for j in range(1, map_width + 1):\n",
    "            cell = map_symbol\n",
    "\n",
    "            if j == character_X and i == character_Y:\n",
    "                cell = 'C'  # Герой\n",
    "            else:\n",
    "                for ex, ey in enemies_coordinates:\n",
    "                    if j == ex and i == ey:\n",
    "                        cell = 'e'  # Враг\n",
    "                        break  # Нашли врага — дальше не проверяем\n",
    "\n",
    "            row += cell\n",
    "        print(row)"
   ]
  },
  {
   "cell_type": "code",
   "execution_count": 19,
   "id": "57d43b19",
   "metadata": {},
   "outputs": [
    {
     "name": "stdout",
     "output_type": "stream",
     "text": [
      "e****\n",
      "*e***\n",
      "*C***\n",
      "*****\n",
      "*****\n"
     ]
    }
   ],
   "source": [
    "draw1(character_X=2, character_Y=3, enemies_coordinates=enemies_coordinates)\n",
    "\n"
   ]
  },
  {
   "cell_type": "markdown",
   "id": "22e62cff",
   "metadata": {},
   "source": [
    "#### 2.6 Столкновение\n",
    "\n",
    "Добавьте в цикл перемещения проверку не столкнулись ли мы с противником\n",
    "\n",
    "Как это сделать? Для каждого противника проверим не совпадают ли с ним новые координаты персонажа. Если совпадают, сделайте какой-нибудь принт, проверьте, что задумка работает"
   ]
  },
  {
   "cell_type": "code",
   "execution_count": 24,
   "id": "7f8b19f9",
   "metadata": {},
   "outputs": [
    {
     "name": "stdout",
     "output_type": "stream",
     "text": [
      "Управление: W (вверх), A (влево), S (вниз), D (вправо), Q (выход)\n",
      "Выход за границы карты.\n",
      "Выход за границы карты.\n",
      "\n",
      "eC***\n",
      "*e***\n",
      "*****\n",
      "*****\n",
      "*****\n",
      "Столкновение!\n",
      "\n",
      "e****\n",
      "*C***\n",
      "*****\n",
      "*****\n",
      "*****\n",
      "Игра окончена.\n"
     ]
    }
   ],
   "source": [
    "print(\"Управление: W (вверх), A (влево), S (вниз), D (вправо), Q (выход)\")\n",
    "\n",
    "user_input = input(\"Введите команду: \").strip().lower()\n",
    "if user_input not in ['w', 'a', 's', 'd', 'q']:\n",
    "    print(\"Управление: W (вверх), A (влево), S (вниз), D (вправо), Q (выход)\")\n",
    "\n",
    "while user_input != 'q':\n",
    "    moved = False  # флаг, чтобы знать, было ли корректное движение\n",
    "\n",
    "    if user_input == 'w' and player_y > 1:\n",
    "        player_y -= 1\n",
    "        moved = True\n",
    "    elif user_input == 's' and player_y < map_height:\n",
    "        player_y += 1\n",
    "        moved = True\n",
    "    elif user_input == 'a' and player_x > 1:\n",
    "        player_x -= 1\n",
    "        moved = True\n",
    "    elif user_input == 'd' and player_x < map_width:\n",
    "        player_x += 1\n",
    "        moved = True\n",
    "    else:\n",
    "        print(\"Выход за границы карты.\")\n",
    "\n",
    "    if moved:\n",
    "        for enemy in enemies_coordinates:\n",
    "            ex, ey = enemy\n",
    "            if player_x == ex and player_y == ey:\n",
    "                print('Столкновение!')\n",
    "                break\n",
    "        print()\n",
    "        draw1(player_x, player_y, enemies_coordinates)\n",
    "\n",
    "    # Снова запрашиваем команду\n",
    "    user_input = input(\"Введите команду: \").strip().lower()\n",
    "\n",
    "print(\"Игра окончена.\")"
   ]
  },
  {
   "cell_type": "markdown",
   "id": "bb2271ae",
   "metadata": {},
   "source": [
    "#### 2.7 Удар\n",
    "\n",
    "Я начну от частного к общему, но если вы делаете свою механику, то рекомендую наоборот, сначала написать общую функцию боя, в ней вызвать функции нанесения урона, потом реализовать функцию нанесения урона, и так далее\n",
    "\n",
    "Напишем функцию которая подсчитывает нанесённый урон\n",
    "\n",
    "Есть множество механик, как брать в расчёт атаку и защиту:\n",
    "- в Героях Меча и Магии есть отдельный атрибут урона, который умножается на коэффициент разницы атаки атакующего и защиты атакуемого, если атака превышает, то добавляется 5% урона за каждую единицу разницы, если защита превышает, то вычитается 3% урона, но не более 200% и не менее 50% урона\n",
    "- в Доте (или варкрафте) защита даёт логарифмический буст сопротивления всему урону, что-то типа защита 1 снижает урон на 5%, защита 2 на 7%, ..., защита 50 на 40%, но до 100% никогда не дойдёт\n",
    "- самая простая механика это просто вычесть из атаки защиту, но главное не начать лечить цель ударами\n",
    "- я сделаю снижение атаки на 1% от каждого очка защиты"
   ]
  },
  {
   "cell_type": "code",
   "execution_count": 25,
   "id": "2298ebb9",
   "metadata": {},
   "outputs": [
    {
     "data": {
      "text/plain": [
       "9"
      ]
     },
     "execution_count": 25,
     "metadata": {},
     "output_type": "execute_result"
    }
   ],
   "source": [
    "def calculate_damage(attack, target_defence):\n",
    "    damage = attack * (1 - target_defence / 100)\n",
    "    return max(1, int(damage))  # минимум 1 урон\n",
    "\n",
    "calculate_damage(10, 10)"
   ]
  },
  {
   "cell_type": "markdown",
   "id": "2dcc5f43",
   "metadata": {},
   "source": [
    "#### 2.8 Битва\n",
    "\n",
    "Функция, в которую передаются все параметры двух участников битвы, можно возвращать `True` если победил наш персонаж, и `False` если мы проиграли\n",
    "\n",
    "Альтернативный вариант - чтобы здоровье персонажа сохранялось между битвами, возвращать его здоровье в конце битвы, а если мы проиграли, то вернём `0`\n",
    "\n",
    "*Эта функция должна использовать calculate_damage()*"
   ]
  },
  {
   "cell_type": "code",
   "execution_count": 33,
   "id": "5468e1b6",
   "metadata": {},
   "outputs": [
    {
     "name": "stdout",
     "output_type": "stream",
     "text": [
      "Бой начался!\n",
      "Вы победили! Персонаж имеет 100 хп\n"
     ]
    }
   ],
   "source": [
    "def fight(character_hp:int,\n",
    "          character_atk:int,\n",
    "          character_def:int,\n",
    "          enemy_hp:int,\n",
    "          enemy_atk:int,\n",
    "          enemy_def:int,\n",
    "          verbose: bool)->int:\n",
    "    print('Бой начался!')\n",
    "    while enemy_hp > 0:\n",
    "        damage_c_e = calculate_damage(character_atk, enemy_def)\n",
    "        enemy_hp = enemy_hp - damage_c_e\n",
    "        if enemy_hp > 0:\n",
    "            if verbose:\n",
    "                print(f'Персонаж бьёт с атакой {character_atk} против защиты {enemy_def}, наносит {damage_c_e} урона')\n",
    "                print(f'У противника осталось {enemy_hp} хп')\n",
    "        else:\n",
    "            print(f'Вы победили! Персонаж имеет {character_hp} хп')\n",
    "            return character_hp\n",
    "        \n",
    "        damage_e_c = calculate_damage(enemy_atk, character_def)\n",
    "        character_hp = character_hp - damage_e_c\n",
    "\n",
    "        if character_hp > 0:\n",
    "            if verbose:\n",
    "                print(f'Противник бьёт с атакой {enemy_atk} против защиты {character_def}, наносит {damage_e_c} урона')\n",
    "                print(f'У персонажа осталось {character_hp }')\n",
    "        else:\n",
    "            print('Вы проиграли!')\n",
    "            return 0\n",
    "\n",
    "character_health = fight(health, attack, defense, enemy_hp=enemy_hp, enemy_atk=enemy_atk, enemy_def=enemy_def, verbose=True)"
   ]
  },
  {
   "cell_type": "markdown",
   "id": "4bb2ae14",
   "metadata": {},
   "source": [
    "#### 2.9 Лог\n",
    "\n",
    "Добавьте в `fight` аргумент `verbose`, который если равен `True`, заставляет функцию выводить лог боя: кто кого ударил, на сколько урона, сколько хп осталось"
   ]
  },
  {
   "cell_type": "code",
   "execution_count": null,
   "id": "6c475193",
   "metadata": {},
   "outputs": [
    {
     "name": "stdout",
     "output_type": "stream",
     "text": [
      "\n",
      "Начинается бой\n",
      "Персонаж бьёт с атакой 5 против защиты 3, наносит 5 урона\n",
      "У противника осталось 5 хп\n",
      "Противник бьёт с атакой 1 против защиты 0, наносит 1 урон\n",
      "У персонажа осталось 9 хп\n",
      "Персонаж бьёт с атакой 5 против защиты 3, наносит 5 урона\n",
      "У противника осталось 0 хп\n",
      "Победа! Персонаж имеет 9 хп\n",
      "\n"
     ]
    }
   ],
   "source": [
    "character_health = fight(\n",
    "    character_health = character_hp,\n",
    "    character_attack = character_atk,\n",
    "    character_defence = character_def,\n",
    "    enemy_hp = enemy_hp,\n",
    "    enemy_atk = enemy_atk,\n",
    "    enemy_def = enemy_def,\n",
    "    verbose=True\n",
    ")"
   ]
  },
  {
   "cell_type": "code",
   "execution_count": null,
   "id": "a58d9936",
   "metadata": {},
   "outputs": [
    {
     "data": {
      "text/plain": [
       "9"
      ]
     },
     "execution_count": 6,
     "metadata": {},
     "output_type": "execute_result"
    }
   ],
   "source": [
    "character_health"
   ]
  },
  {
   "cell_type": "markdown",
   "id": "777c6e77",
   "metadata": {},
   "source": [
    "### 3. Собираем всё вместе\n",
    "\n",
    "Теперь добавим в наш цикл перемещения вызов функции `fight()`, добавим условия выхода из цикла с победой если все противники побеждены или с поражением если персонаж погиб, и протестируем получившийся проект"
   ]
  },
  {
   "cell_type": "code",
   "execution_count": 46,
   "id": "2a8c2d2d",
   "metadata": {},
   "outputs": [],
   "source": [
    "health = 100      # Здоровье\n",
    "attack = 5       # Атака\n",
    "defense = 5      # Защита\n",
    "player_x= 5             # Координата X\n",
    "player_y = 3             # Координата Y\n",
    "\n",
    "enemies_coordinates = [\n",
    "    [1,1],\n",
    "    [2,2],\n",
    "]\n",
    "\n",
    "enemy_hp = 10\n",
    "enemy_atk = 5\n",
    "enemy_def = 5\n",
    "enemy_symbol = 'e'\n",
    "\n",
    "map_height=5\n",
    "map_width=5\n",
    "map_symbol='*'"
   ]
  },
  {
   "cell_type": "code",
   "execution_count": 47,
   "id": "c9e2a844",
   "metadata": {},
   "outputs": [],
   "source": [
    "def draw1(character_X, character_Y, enemies_coords):\n",
    "    if character_X > map_width or character_X <= 0:\n",
    "        print('Указана неверная координата X у героя')\n",
    "        return\n",
    "    if character_Y > map_height or character_Y <= 0:\n",
    "        print('Указана неверная координата Y у героя')\n",
    "        return\n",
    "\n",
    "    for enemy in enemies_coords:\n",
    "        ex, ey = enemy\n",
    "        if ex > map_width or ex <= 0 or ey > map_height or ey <= 0:\n",
    "            print('Неверные координаты врага')\n",
    "            return\n",
    "\n",
    "    for i in range(1, map_height + 1):\n",
    "        row = ''\n",
    "        for j in range(1, map_width + 1):\n",
    "            cell = map_symbol\n",
    "            if j == character_X and i == character_Y:\n",
    "                cell = 'C'\n",
    "            else:\n",
    "                for ex, ey in enemies_coords:\n",
    "                    if j == ex and i == ey:\n",
    "                        cell = 'e'\n",
    "                        break\n",
    "            row += cell\n",
    "        print(row)"
   ]
  },
  {
   "cell_type": "code",
   "execution_count": 48,
   "id": "684266ec",
   "metadata": {},
   "outputs": [
    {
     "data": {
      "text/plain": [
       "9"
      ]
     },
     "execution_count": 48,
     "metadata": {},
     "output_type": "execute_result"
    }
   ],
   "source": [
    "def calculate_damage(attack, target_defence):\n",
    "    damage = attack * (1 - target_defence / 100)\n",
    "    return max(1, int(damage))  # минимум 1 урон\n",
    "\n",
    "calculate_damage(10, 10)"
   ]
  },
  {
   "cell_type": "code",
   "execution_count": 49,
   "id": "eb9f4f49",
   "metadata": {},
   "outputs": [],
   "source": [
    "def fight(character_hp, character_atk, character_def, enemy_hp, enemy_atk, enemy_def, verbose=True):\n",
    "    if verbose:\n",
    "        print('Бой начался!')\n",
    "\n",
    "    while True:\n",
    "        # Игрок атакует врага\n",
    "        damage_c_e = calculate_damage(character_atk, enemy_def)\n",
    "        enemy_hp -= damage_c_e\n",
    "        if verbose:\n",
    "            print(f'Персонаж бьёт с атакой {character_atk} против защиты {enemy_def}, наносит {damage_c_e} урона')\n",
    "            if enemy_hp > 0:\n",
    "                print(f'У противника осталось {enemy_hp} хп')\n",
    "            else:\n",
    "                print('Вы победили!')\n",
    "\n",
    "        if enemy_hp <= 0:\n",
    "            return character_hp  # Возвращаем оставшееся здоровье\n",
    "\n",
    "        # Враг атакует игрока\n",
    "        damage_e_c = calculate_damage(enemy_atk, character_def)\n",
    "        character_hp -= damage_e_c\n",
    "        if verbose:\n",
    "            print(f'Противник бьёт с атакой {enemy_atk} против защиты {character_def}, наносит {damage_e_c} урона')\n",
    "            if character_hp > 0:\n",
    "                print(f'У персонажа осталось {character_hp} хп')\n",
    "            else:\n",
    "                print('Вы проиграли!')\n",
    "\n",
    "        if character_hp <= 0:\n",
    "            return 0  # Игрок погиб\n"
   ]
  },
  {
   "cell_type": "code",
   "execution_count": 50,
   "id": "dbd7d187",
   "metadata": {},
   "outputs": [
    {
     "name": "stdout",
     "output_type": "stream",
     "text": [
      "Управление: W (вверх), A (влево), S (вниз), D (вправо), Q (выход)\n",
      "e****\n",
      "*e***\n",
      "****C\n",
      "*****\n",
      "*****\n",
      "Неверная команда. Допустимые: W, A, S, D, Q.\n",
      "Неверная команда. Допустимые: W, A, S, D, Q.\n",
      "\n",
      "e****\n",
      "*e***\n",
      "***C*\n",
      "*****\n",
      "*****\n",
      "\n",
      "e****\n",
      "*e***\n",
      "**C**\n",
      "*****\n",
      "*****\n",
      "\n",
      "e****\n",
      "*e***\n",
      "*C***\n",
      "*****\n",
      "*****\n",
      "Столкновение!\n",
      "Бой начался!\n",
      "Персонаж бьёт с атакой 5 против защиты 5, наносит 4 урона\n",
      "У противника осталось 6 хп\n",
      "Противник бьёт с атакой 5 против защиты 5, наносит 4 урона\n",
      "У персонажа осталось 96 хп\n",
      "Персонаж бьёт с атакой 5 против защиты 5, наносит 4 урона\n",
      "У противника осталось 2 хп\n",
      "Противник бьёт с атакой 5 против защиты 5, наносит 4 урона\n",
      "У персонажа осталось 92 хп\n",
      "Персонаж бьёт с атакой 5 против защиты 5, наносит 4 урона\n",
      "Вы победили!\n",
      "\n",
      "e****\n",
      "*C***\n",
      "*****\n",
      "*****\n",
      "*****\n",
      "Игра окончена.\n"
     ]
    }
   ],
   "source": [
    "\n",
    "print(\"Управление: W (вверх), A (влево), S (вниз), D (вправо), Q (выход)\")\n",
    "draw1(player_x, player_y, enemies_coordinates)\n",
    "\n",
    "# Игра\n",
    "while True:\n",
    "    user_input = input(\"Введите команду: \").strip().lower()\n",
    "\n",
    "    if user_input not in ['w', 'a', 's', 'd', 'q']:\n",
    "        print(\"Неверная команда. Допустимые: W, A, S, D, Q.\")\n",
    "        continue\n",
    "\n",
    "    if user_input == 'q':\n",
    "        print(\"Игра окончена.\")\n",
    "        break\n",
    "\n",
    "    moved = False\n",
    "\n",
    "    # Движение\n",
    "    if user_input == 'w' and player_y > 1:\n",
    "        player_y -= 1\n",
    "        moved = True\n",
    "    elif user_input == 's' and player_y < map_height:\n",
    "        player_y += 1\n",
    "        moved = True\n",
    "    elif user_input == 'a' and player_x > 1:\n",
    "        player_x -= 1\n",
    "        moved = True\n",
    "    elif user_input == 'd' and player_x < map_width:\n",
    "        player_x += 1\n",
    "        moved = True\n",
    "    else:\n",
    "        print(\"Движение невозможно — выход за границы карты.\")\n",
    "\n",
    "    if moved:\n",
    "        # Проверка столкновения с врагами\n",
    "        collision = False\n",
    "        for enemy in enemies_coordinates:\n",
    "            ex, ey = enemy\n",
    "            if player_x == ex and player_y == ey:\n",
    "                print('Столкновение!')\n",
    "                # Обновляем health через результат боя\n",
    "                new_health = fight(health, attack, defense, enemy_hp, enemy_atk, enemy_def, verbose=True)\n",
    "                health = new_health\n",
    "                if health == 0:\n",
    "                    print(\"Игра окончена: вы погибли.\")\n",
    "                    exit()\n",
    "                # Убираем врага с карты после боя\n",
    "                enemies_coordinates.remove(enemy)\n",
    "                collision = True\n",
    "                break\n",
    "\n",
    "        print()  # пустая строка\n",
    "        draw1(player_x, player_y, enemies_coordinates)"
   ]
  }
 ],
 "metadata": {
  "kernelspec": {
   "display_name": "Python 3",
   "language": "python",
   "name": "python3"
  },
  "language_info": {
   "codemirror_mode": {
    "name": "ipython",
    "version": 3
   },
   "file_extension": ".py",
   "mimetype": "text/x-python",
   "name": "python",
   "nbconvert_exporter": "python",
   "pygments_lexer": "ipython3",
   "version": "3.13.7"
  }
 },
 "nbformat": 4,
 "nbformat_minor": 5
}
