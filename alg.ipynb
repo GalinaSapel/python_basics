{
 "cells": [
  {
   "cell_type": "code",
   "execution_count": 3,
   "id": "ae83a87c",
   "metadata": {},
   "outputs": [
    {
     "name": "stdout",
     "output_type": "stream",
     "text": [
      "26\n"
     ]
    }
   ],
   "source": [
    "def summa(arr):\n",
    "    if len(arr) == 0:\n",
    "        return 0\n",
    "    if len(arr) == 1:\n",
    "        return arr[0]\n",
    "    else:\n",
    "        return arr[0]+summa(arr[1:])\n",
    "\n",
    "x = [1, 22, 3]\n",
    "print(summa(x))"
   ]
  },
  {
   "cell_type": "code",
   "execution_count": 6,
   "id": "e2cb6601",
   "metadata": {},
   "outputs": [
    {
     "name": "stdout",
     "output_type": "stream",
     "text": [
      "5\n"
     ]
    }
   ],
   "source": [
    "def count(arr):\n",
    "    if len(arr) == 0:\n",
    "        return 0\n",
    "    if len(arr) == 1:\n",
    "        return 1\n",
    "    else:\n",
    "        return 1+count(arr[1:])\n",
    "\n",
    "x = [1, 22, 3, 78, 5]\n",
    "print(count(x))"
   ]
  },
  {
   "cell_type": "code",
   "execution_count": 10,
   "id": "a635a3d1",
   "metadata": {},
   "outputs": [
    {
     "name": "stdout",
     "output_type": "stream",
     "text": [
      "78\n"
     ]
    }
   ],
   "source": [
    "def maxel(arr):\n",
    "    if len(arr) == 0:\n",
    "        return 0\n",
    "    if len(arr) == 1:\n",
    "        return arr[0]\n",
    "    else:\n",
    "        max_of_rest = maxel(arr[1:])\n",
    "        if arr[0]>max_of_rest:\n",
    "            return arr[0]\n",
    "        else: \n",
    "            return max_of_rest\n",
    "\n",
    "x = [1, 22, 3, 78, 5]\n",
    "print(maxel(x))"
   ]
  },
  {
   "cell_type": "code",
   "execution_count": 25,
   "id": "cbe74ba1",
   "metadata": {},
   "outputs": [
    {
     "name": "stdout",
     "output_type": "stream",
     "text": [
      "1 22 3 78 5\n",
      "484 66 1716 110\n",
      "9 234 15\n",
      "6084 390\n",
      "25\n"
     ]
    }
   ],
   "source": [
    "def umnog (arr):\n",
    "    if len(arr)== 0:\n",
    "        return \n",
    "    first = arr[0]\n",
    "    l=[]\n",
    "    for j in arr:\n",
    "        l.append(str(first* j))\n",
    "    print(' '.join(l))\n",
    "    return umnog(arr[1:])\n",
    "x = [1, 22, 3, 78, 5]\n",
    "umnog(x)"
   ]
  },
  {
   "cell_type": "code",
   "execution_count": 29,
   "id": "606d1aad",
   "metadata": {},
   "outputs": [
    {
     "name": "stdout",
     "output_type": "stream",
     "text": [
      "1 22 3 78 5\n",
      "22 484 66 1716 110\n",
      "3 66 9 234 15\n",
      "78 1716 234 6084 390\n",
      "5 110 15 390 25\n"
     ]
    }
   ],
   "source": [
    "def umnog1(current_arr, original_arr=None):\n",
    "    if original_arr is None:\n",
    "        original_arr = current_arr  # запоминаем исходный массив при первом вызове\n",
    "    if len(current_arr) == 0:\n",
    "        return\n",
    "    first = current_arr[0]\n",
    "    l = [str(first * j) for j in original_arr]  # ← умножаем на ИСХОДНЫЙ массив\n",
    "    print(' '.join(l))\n",
    "    return umnog1(current_arr[1:], original_arr)\n",
    "\n",
    "x = [1, 22, 3, 78, 5]\n",
    "umnog1(x)"
   ]
  },
  {
   "cell_type": "code",
   "execution_count": 16,
   "id": "54154b63",
   "metadata": {},
   "outputs": [
    {
     "name": "stdout",
     "output_type": "stream",
     "text": [
      "1 22 3 78 5\n",
      "22 484 66 1716 110\n",
      "3 66 9 234 15\n",
      "78 1716 234 6084 390\n",
      "5 110 15 390 25\n"
     ]
    }
   ],
   "source": [
    "for i in x:\n",
    "    row = []\n",
    "    for j in x:\n",
    "        row.append(str(i*j))\n",
    "    print(' '.join(row))"
   ]
  },
  {
   "cell_type": "code",
   "execution_count": 13,
   "id": "cc02be6c",
   "metadata": {},
   "outputs": [
    {
     "name": "stdout",
     "output_type": "stream",
     "text": [
      "1 22 3 78 5\n",
      "22 484 66 1716 110\n",
      "3 66 9 234 15\n",
      "78 1716 234 6084 390\n",
      "5 110 15 390 25\n"
     ]
    }
   ],
   "source": [
    "for i in x:\n",
    "    row = []\n",
    "    for j in x:\n",
    "        row.append(str(i*j))\n",
    "    print(' '.join(row))\n"
   ]
  },
  {
   "cell_type": "code",
   "execution_count": 42,
   "id": "c2da12ca",
   "metadata": {},
   "outputs": [],
   "source": [
    "def isAnagram(s: str, t: str) -> bool:\n",
    "    if len(s) != len(t):\n",
    "        return False\n",
    "    char_dict = dict()\n",
    "    char_dict2 = dict()\n",
    "    for char in s:\n",
    "        if char in char_dict:\n",
    "            char_dict[char] += 1\n",
    "        else:\n",
    "            char_dict[char] = 1\n",
    "    for char2 in t:\n",
    "        if char2 in char_dict2:\n",
    "            char_dict2[char2] += 1\n",
    "        else:\n",
    "            char_dict2[char2] = 1\n",
    "    if char_dict == char_dict2:\n",
    "        return True\n",
    "    else:\n",
    "        return False"
   ]
  },
  {
   "cell_type": "code",
   "execution_count": 43,
   "id": "ef6bae4e",
   "metadata": {},
   "outputs": [
    {
     "data": {
      "text/plain": [
       "True"
      ]
     },
     "execution_count": 43,
     "metadata": {},
     "output_type": "execute_result"
    }
   ],
   "source": [
    "isAnagram('racecar', 'carrace')"
   ]
  },
  {
   "cell_type": "code",
   "execution_count": null,
   "id": "d940b6de",
   "metadata": {},
   "outputs": [],
   "source": [
    "def groupAnagrams(strs: List[str]) -> List[List[str]]:\n",
    "        d = {}\n",
    "        for char in strs[0]:\n",
    "            if char is not in d:\n",
    "                d[char] = 1\n",
    "            else:\n",
    "                d[char] +=1"
   ]
  },
  {
   "cell_type": "code",
   "execution_count": 47,
   "id": "2fa453bb",
   "metadata": {},
   "outputs": [
    {
     "name": "stdout",
     "output_type": "stream",
     "text": [
      "[{'h': 1, 'a': 1, 't': 1}, {'h': 1, 'a': 1, 't': 1}, {'h': 1, 'a': 1, 't': 1}, {'h': 1, 'a': 1, 't': 1}, {'h': 1, 'a': 1, 't': 1}, {'h': 1, 'a': 1, 't': 1}]\n"
     ]
    }
   ],
   "source": [
    "from collections import Counter\n",
    "strs = [\"act\", \"pots\", \"tops\", \"cat\", \"stop\", \"hat\"]\n",
    "dict_list = []\n",
    "for str in strs:\n",
    "    dict_list.append(dict(Counter(strs[i])))\n",
    "print(dict_list)\n"
   ]
  }
 ],
 "metadata": {
  "kernelspec": {
   "display_name": "Python 3",
   "language": "python",
   "name": "python3"
  },
  "language_info": {
   "codemirror_mode": {
    "name": "ipython",
    "version": 3
   },
   "file_extension": ".py",
   "mimetype": "text/x-python",
   "name": "python",
   "nbconvert_exporter": "python",
   "pygments_lexer": "ipython3",
   "version": "3.13.7"
  }
 },
 "nbformat": 4,
 "nbformat_minor": 5
}
