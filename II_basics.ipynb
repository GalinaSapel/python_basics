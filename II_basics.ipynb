{
 "cells": [
  {
   "cell_type": "markdown",
   "id": "b1b4c3ea",
   "metadata": {},
   "source": [
    "# Основы python\n",
    "\n",
    "Документ доступен в веб-версии с гитхаба, но некоторые элементы, типа картинок и таблиц, отображаются некорректно, к томе же вы не можете модифицировать и запускать код, поэтому рекомендую скачивать эти ноутбуки к себе"
   ]
  },
  {
   "cell_type": "markdown",
   "id": "d8ac07ed",
   "metadata": {},
   "source": [
    "### Это заголовок, используйте их в своих блокнотах"
   ]
  },
  {
   "cell_type": "markdown",
   "id": "d2db72a1",
   "metadata": {},
   "source": [
    "это ячейка markdown, тут поддерживается красивая разметка. объяснение чего-нибудь\n",
    "- пункт такой\n",
    "- пункт сякой"
   ]
  },
  {
   "cell_type": "code",
   "execution_count": null,
   "id": "3360cf72",
   "metadata": {},
   "outputs": [
    {
     "name": "stdout",
     "output_type": "stream",
     "text": [
      "Hello world\n"
     ]
    }
   ],
   "source": [
    "print(\"Hello world\")"
   ]
  },
  {
   "cell_type": "markdown",
   "id": "10f71727",
   "metadata": {},
   "source": [
    "принтим что-то. Но в блокнотах мы особо не принтим, информация итак выводится. Кстати, в принт можно дать через запятую несколько значений"
   ]
  },
  {
   "cell_type": "code",
   "execution_count": null,
   "id": "dbbe70ba",
   "metadata": {},
   "outputs": [
    {
     "name": "stdout",
     "output_type": "stream",
     "text": [
      "Hello Grisha\n"
     ]
    }
   ],
   "source": [
    "print(\"Hello\", \"Grisha\")"
   ]
  },
  {
   "cell_type": "code",
   "execution_count": null,
   "id": "029c83a6",
   "metadata": {},
   "outputs": [
    {
     "data": {
      "text/plain": [
       "'asdfasdf'"
      ]
     },
     "execution_count": 3,
     "metadata": {},
     "output_type": "execute_result"
    }
   ],
   "source": [
    "input() # это комментарий, удобно пометки делать"
   ]
  },
  {
   "cell_type": "code",
   "execution_count": 3,
   "id": "238bc2e8",
   "metadata": {},
   "outputs": [
    {
     "data": {
      "text/plain": [
       "'\\nмногострочный комментарий\\nудобно документировать код\\nкстати это ещё и строка и её можно сохранить и вывести\\n'"
      ]
     },
     "execution_count": 3,
     "metadata": {},
     "output_type": "execute_result"
    }
   ],
   "source": [
    "\"\"\"\n",
    "многострочный комментарий\n",
    "удобно документировать код\n",
    "кстати это ещё и строка и её можно сохранить и вывести\n",
    "\"\"\""
   ]
  },
  {
   "cell_type": "markdown",
   "id": "9b475fab",
   "metadata": {},
   "source": [
    "закомментить код - сделать временно нерабочим, превратить в текст. Выделяете и нажимаете:\n",
    "- Cmd + /\n",
    "- Ctrl + /"
   ]
  },
  {
   "cell_type": "code",
   "execution_count": 4,
   "id": "2c44bc26",
   "metadata": {},
   "outputs": [],
   "source": [
    "# print()\n",
    "# input()\n",
    "# max()\n",
    "# min()"
   ]
  },
  {
   "cell_type": "markdown",
   "id": "5296d219",
   "metadata": {},
   "source": [
    "В блокноте удобно что-то быстро потестить, создаёте ячейку, пишете что хотите, запускаете, видите результат. Я постоянно проверяю промежуточно куски кода, не держу в голове досканально как что правильно пишется, а проверяю на ходу. Составляйте конспект в obsidian или прям тут, пробуйте поиграться с кусками кода, модифицируйте и запускайте.\n",
    "\n",
    "Порядок материала в моём курсе я подбираю для упрощения и ускорения вникания, систематизация тут делается чтобы было максимально понятно, а не чтобы создать очередной справочник питона. Иногда я забегаю вперёд, не все конструкции, которые вы видите, обязательно понимать и запоминать в моменте.\n",
    "\n",
    "После урока у нас будет сразу проект для закрепления, но вы можете практиковаться по ходу самостоятельно, создавайте ячейки и пробуйте разные штуки. Я оставил примеры того что можно сделать, пометив как `#TODO`"
   ]
  },
  {
   "cell_type": "markdown",
   "id": "f9bd4c86",
   "metadata": {},
   "source": [
    "### Операторы"
   ]
  },
  {
   "cell_type": "markdown",
   "id": "03a59ee8",
   "metadata": {},
   "source": [
    "##### Арифметические: `+`, `-`, `*`, `/`, `//`, `%`, `**`"
   ]
  },
  {
   "cell_type": "code",
   "execution_count": 5,
   "id": "3023a7ee",
   "metadata": {},
   "outputs": [
    {
     "data": {
      "text/plain": [
       "4"
      ]
     },
     "execution_count": 5,
     "metadata": {},
     "output_type": "execute_result"
    }
   ],
   "source": [
    "2+2"
   ]
  },
  {
   "cell_type": "code",
   "execution_count": 6,
   "id": "d91ded2e",
   "metadata": {},
   "outputs": [
    {
     "data": {
      "text/plain": [
       "6"
      ]
     },
     "execution_count": 6,
     "metadata": {},
     "output_type": "execute_result"
    }
   ],
   "source": [
    "2*3"
   ]
  },
  {
   "cell_type": "code",
   "execution_count": null,
   "id": "546e7239",
   "metadata": {},
   "outputs": [
    {
     "data": {
      "text/plain": [
       "2.0"
      ]
     },
     "execution_count": 7,
     "metadata": {},
     "output_type": "execute_result"
    }
   ],
   "source": [
    "4/2 # деление всегда выдаёт дробь"
   ]
  },
  {
   "cell_type": "code",
   "execution_count": 8,
   "id": "0f3385e8",
   "metadata": {},
   "outputs": [
    {
     "data": {
      "text/plain": [
       "2.5"
      ]
     },
     "execution_count": 8,
     "metadata": {},
     "output_type": "execute_result"
    }
   ],
   "source": [
    "5/2"
   ]
  },
  {
   "cell_type": "code",
   "execution_count": null,
   "id": "4a892f41",
   "metadata": {},
   "outputs": [
    {
     "data": {
      "text/plain": [
       "8"
      ]
     },
     "execution_count": 9,
     "metadata": {},
     "output_type": "execute_result"
    }
   ],
   "source": [
    "2**3 # 2 в степени 3"
   ]
  },
  {
   "cell_type": "code",
   "execution_count": null,
   "id": "69448d5c",
   "metadata": {},
   "outputs": [
    {
     "data": {
      "text/plain": [
       "2"
      ]
     },
     "execution_count": 10,
     "metadata": {},
     "output_type": "execute_result"
    }
   ],
   "source": [
    "5//2 # целочисленное деление (округление всегда вниз)"
   ]
  },
  {
   "cell_type": "code",
   "execution_count": null,
   "id": "3c2af592",
   "metadata": {},
   "outputs": [
    {
     "data": {
      "text/plain": [
       "1"
      ]
     },
     "execution_count": 11,
     "metadata": {},
     "output_type": "execute_result"
    }
   ],
   "source": [
    "5%2 # остаток от деления"
   ]
  },
  {
   "cell_type": "code",
   "execution_count": null,
   "id": "9e0e18b3",
   "metadata": {},
   "outputs": [
    {
     "data": {
      "text/plain": [
       "31536000"
      ]
     },
     "execution_count": 80,
     "metadata": {},
     "output_type": "execute_result"
    }
   ],
   "source": [
    "# TODO посчитайте колво секунд в году\n"
   ]
  },
  {
   "cell_type": "markdown",
   "id": "7e2570e8",
   "metadata": {},
   "source": [
    "##### Сравнения: `==`, `!=`, `>`, `<`, `>=`, `<=`"
   ]
  },
  {
   "cell_type": "markdown",
   "id": "133fb90e",
   "metadata": {},
   "source": [
    "Выдают `True` или `False` (о них позже)\n",
    "- `==` равенство, равны ли значения слева и справа\n",
    "- `!=` то же самое только *не* равно\n",
    "- `>` больше\n",
    "- `<` меньше\n",
    "- `>=` больше или равно\n",
    "- `<=` меньше или равно"
   ]
  },
  {
   "cell_type": "code",
   "execution_count": 4,
   "id": "5d768f3f",
   "metadata": {},
   "outputs": [
    {
     "data": {
      "text/plain": [
       "True"
      ]
     },
     "execution_count": 4,
     "metadata": {},
     "output_type": "execute_result"
    }
   ],
   "source": [
    "2+2==4"
   ]
  },
  {
   "cell_type": "code",
   "execution_count": 13,
   "id": "043d9b08",
   "metadata": {},
   "outputs": [
    {
     "data": {
      "text/plain": [
       "True"
      ]
     },
     "execution_count": 13,
     "metadata": {},
     "output_type": "execute_result"
    }
   ],
   "source": [
    "3 != 2"
   ]
  },
  {
   "cell_type": "code",
   "execution_count": 5,
   "id": "4d2508fa",
   "metadata": {},
   "outputs": [
    {
     "data": {
      "text/plain": [
       "True"
      ]
     },
     "execution_count": 5,
     "metadata": {},
     "output_type": "execute_result"
    }
   ],
   "source": [
    "3 > 2"
   ]
  },
  {
   "cell_type": "code",
   "execution_count": 7,
   "id": "69854ca4",
   "metadata": {},
   "outputs": [
    {
     "data": {
      "text/plain": [
       "True"
      ]
     },
     "execution_count": 7,
     "metadata": {},
     "output_type": "execute_result"
    }
   ],
   "source": [
    "3 <= 3"
   ]
  },
  {
   "cell_type": "code",
   "execution_count": 8,
   "id": "e663a940",
   "metadata": {},
   "outputs": [
    {
     "data": {
      "text/plain": [
       "False"
      ]
     },
     "execution_count": 8,
     "metadata": {},
     "output_type": "execute_result"
    }
   ],
   "source": [
    "3 < 3"
   ]
  },
  {
   "cell_type": "markdown",
   "id": "4852e8a4",
   "metadata": {},
   "source": [
    "##### Логические: `and`, `or`, `not`"
   ]
  },
  {
   "cell_type": "markdown",
   "id": "bd1b7d9f",
   "metadata": {},
   "source": [
    "- `and` True только если оба значения True\n",
    "- `or` True если хотя бы одно значение True\n",
    "- `not` обратное значение, то есть меняет True на False, False на True"
   ]
  },
  {
   "cell_type": "code",
   "execution_count": 14,
   "id": "810544c2",
   "metadata": {},
   "outputs": [
    {
     "data": {
      "text/plain": [
       "True"
      ]
     },
     "execution_count": 14,
     "metadata": {},
     "output_type": "execute_result"
    }
   ],
   "source": [
    "True and True"
   ]
  },
  {
   "cell_type": "code",
   "execution_count": 15,
   "id": "9b63ca18",
   "metadata": {},
   "outputs": [
    {
     "data": {
      "text/plain": [
       "False"
      ]
     },
     "execution_count": 15,
     "metadata": {},
     "output_type": "execute_result"
    }
   ],
   "source": [
    "True and False"
   ]
  },
  {
   "cell_type": "code",
   "execution_count": 16,
   "id": "afb3b3d3",
   "metadata": {},
   "outputs": [
    {
     "data": {
      "text/plain": [
       "True"
      ]
     },
     "execution_count": 16,
     "metadata": {},
     "output_type": "execute_result"
    }
   ],
   "source": [
    "True or False"
   ]
  },
  {
   "cell_type": "code",
   "execution_count": 17,
   "id": "2105b374",
   "metadata": {},
   "outputs": [
    {
     "data": {
      "text/plain": [
       "False"
      ]
     },
     "execution_count": 17,
     "metadata": {},
     "output_type": "execute_result"
    }
   ],
   "source": [
    "not True"
   ]
  },
  {
   "cell_type": "markdown",
   "id": "c680cf91",
   "metadata": {},
   "source": [
    "##### Порядок выполнения операторов\n",
    "- сначала арифметические, как в математике\n",
    "- потом логические, в порядке: not, and, or\n",
    "- в конце сравнения и всякие in, is и тд"
   ]
  },
  {
   "cell_type": "code",
   "execution_count": 16,
   "id": "99ae64d5",
   "metadata": {},
   "outputs": [
    {
     "data": {
      "text/plain": [
       "True"
      ]
     },
     "execution_count": 16,
     "metadata": {},
     "output_type": "execute_result"
    }
   ],
   "source": [
    "True or False and not True # сначала not, потом and, в конце or"
   ]
  },
  {
   "cell_type": "markdown",
   "id": "16fcd52e",
   "metadata": {},
   "source": [
    "Всё что в скобках выполняется первее"
   ]
  },
  {
   "cell_type": "code",
   "execution_count": 18,
   "id": "d08df648",
   "metadata": {},
   "outputs": [
    {
     "data": {
      "text/plain": [
       "False"
      ]
     },
     "execution_count": 18,
     "metadata": {},
     "output_type": "execute_result"
    }
   ],
   "source": [
    "(True or False) and not True # сначала выполнился or в скобках"
   ]
  },
  {
   "cell_type": "code",
   "execution_count": 19,
   "id": "bfb9b0b1",
   "metadata": {},
   "outputs": [
    {
     "data": {
      "text/plain": [
       "True"
      ]
     },
     "execution_count": 19,
     "metadata": {},
     "output_type": "execute_result"
    }
   ],
   "source": [
    "3 + 2 * 5 > 10 or not (4 / 2 == 2) and (7 % 3 == 1)"
   ]
  },
  {
   "cell_type": "markdown",
   "id": "02b8599a",
   "metadata": {},
   "source": [
    "### Встроенные функции\n",
    "\n",
    "Есть много built-in функций которые можно всегда вызвать без определения. `Функция(аргументы)`, ниже просто примеры."
   ]
  },
  {
   "cell_type": "code",
   "execution_count": 25,
   "id": "ecdadaca",
   "metadata": {},
   "outputs": [
    {
     "data": {
      "text/plain": [
       "2"
      ]
     },
     "execution_count": 25,
     "metadata": {},
     "output_type": "execute_result"
    }
   ],
   "source": [
    "round(1.6)"
   ]
  },
  {
   "cell_type": "code",
   "execution_count": 27,
   "id": "ca3443d1",
   "metadata": {},
   "outputs": [
    {
     "name": "stdout",
     "output_type": "stream",
     "text": [
      "это тоже встроенная функция\n"
     ]
    }
   ],
   "source": [
    "print(\"это тоже встроенная функция\")"
   ]
  },
  {
   "cell_type": "markdown",
   "id": "5754f874",
   "metadata": {},
   "source": [
    "в эти функции подаётся коллекция (о ней дальше)"
   ]
  },
  {
   "cell_type": "code",
   "execution_count": 23,
   "id": "09299927",
   "metadata": {},
   "outputs": [
    {
     "data": {
      "text/plain": [
       "5"
      ]
     },
     "execution_count": 23,
     "metadata": {},
     "output_type": "execute_result"
    }
   ],
   "source": [
    "sum((3,2))"
   ]
  },
  {
   "cell_type": "code",
   "execution_count": 20,
   "id": "436f4cb4",
   "metadata": {},
   "outputs": [
    {
     "data": {
      "text/plain": [
       "1"
      ]
     },
     "execution_count": 20,
     "metadata": {},
     "output_type": "execute_result"
    }
   ],
   "source": [
    "min([1,2,3,5])"
   ]
  },
  {
   "cell_type": "code",
   "execution_count": 21,
   "id": "2cf51515",
   "metadata": {},
   "outputs": [
    {
     "data": {
      "text/plain": [
       "-3"
      ]
     },
     "execution_count": 21,
     "metadata": {},
     "output_type": "execute_result"
    }
   ],
   "source": [
    "max((-100,-50,-3))"
   ]
  },
  {
   "cell_type": "code",
   "execution_count": 26,
   "id": "bff7ad81",
   "metadata": {},
   "outputs": [
    {
     "data": {
      "text/plain": [
       "4"
      ]
     },
     "execution_count": 26,
     "metadata": {},
     "output_type": "execute_result"
    }
   ],
   "source": [
    "len((2,3,4,5))"
   ]
  },
  {
   "cell_type": "markdown",
   "id": "24112652",
   "metadata": {},
   "source": [
    "это затравка на будущее, просто пример. В vscode можно навести курсор на объект или функцию и откроется документация, если она есть (скрин ниже)"
   ]
  },
  {
   "cell_type": "code",
   "execution_count": 76,
   "id": "ebdee1c2",
   "metadata": {},
   "outputs": [
    {
     "data": {
      "text/plain": [
       "[5, 4, 2, 1]"
      ]
     },
     "execution_count": 76,
     "metadata": {},
     "output_type": "execute_result"
    }
   ],
   "source": [
    "sorted([1,5,2,4], reverse=True) # reverse - доп аргумент"
   ]
  },
  {
   "cell_type": "markdown",
   "id": "9298d5b9",
   "metadata": {},
   "source": [
    "![Image](imgs/2025-08-09_19-00-15.png)"
   ]
  },
  {
   "cell_type": "markdown",
   "id": "ae451075",
   "metadata": {},
   "source": [
    "### Переменные"
   ]
  },
  {
   "cell_type": "markdown",
   "id": "891106f6",
   "metadata": {},
   "source": [
    "операторы присваивания:\n",
    "- `=` тому, что справа, присваиваем то, что слева\n",
    "- `+=` к тому, что справа, прибавляем то, что слева\n",
    "- `-=` из того, что справа, вычитаем то, что слева"
   ]
  },
  {
   "cell_type": "code",
   "execution_count": 51,
   "id": "6fb08074",
   "metadata": {},
   "outputs": [],
   "source": [
    "# left_value = right_value\n",
    "\n",
    "a = 4\n",
    "name = 'Grisha'"
   ]
  },
  {
   "cell_type": "markdown",
   "id": "32abfcf0",
   "metadata": {},
   "source": [
    "Слева всегда только имя переменной, без вычислений, иначе выдаст ошибку. А справа может быть выражение. Оператор присваивания отрабатывает в самом конце."
   ]
  },
  {
   "cell_type": "code",
   "execution_count": 24,
   "id": "d719bb8f",
   "metadata": {},
   "outputs": [
    {
     "ename": "SyntaxError",
     "evalue": "cannot assign to expression here. Maybe you meant '==' instead of '='? (2568341246.py, line 2)",
     "output_type": "error",
     "traceback": [
      "  \u001b[36mCell\u001b[39m\u001b[36m \u001b[39m\u001b[32mIn[24]\u001b[39m\u001b[32m, line 2\u001b[39m\n\u001b[31m    \u001b[39m\u001b[31ma + 2 = 4\u001b[39m\n    ^\n\u001b[31mSyntaxError\u001b[39m\u001b[31m:\u001b[39m cannot assign to expression here. Maybe you meant '==' instead of '='?\n"
     ]
    }
   ],
   "source": [
    "# left_value всегда одно значение, без вычислений\n",
    "a + 2 = 4"
   ]
  },
  {
   "cell_type": "code",
   "execution_count": null,
   "id": "d8bddb11",
   "metadata": {},
   "outputs": [
    {
     "data": {
      "text/plain": [
       "True"
      ]
     },
     "execution_count": 26,
     "metadata": {},
     "output_type": "execute_result"
    }
   ],
   "source": [
    "a = 2+2 > 3\n",
    "a"
   ]
  },
  {
   "cell_type": "markdown",
   "id": "f300ab13",
   "metadata": {},
   "source": [
    "`+=` и `-=` иногда называют синтаксическим сахаром (сокращением записи), на самом деле они им не является, но мы пока будем считать что `b+=1` и `b=b+1` имеют одинаковый смысл."
   ]
  },
  {
   "cell_type": "code",
   "execution_count": 28,
   "id": "71195666",
   "metadata": {},
   "outputs": [
    {
     "data": {
      "text/plain": [
       "2"
      ]
     },
     "execution_count": 28,
     "metadata": {},
     "output_type": "execute_result"
    }
   ],
   "source": [
    "b = 2\n",
    "b"
   ]
  },
  {
   "cell_type": "code",
   "execution_count": 29,
   "id": "106d2aea",
   "metadata": {},
   "outputs": [
    {
     "data": {
      "text/plain": [
       "3"
      ]
     },
     "execution_count": 29,
     "metadata": {},
     "output_type": "execute_result"
    }
   ],
   "source": [
    "b += 1 # b = b + 1\n",
    "b"
   ]
  },
  {
   "cell_type": "code",
   "execution_count": 30,
   "id": "ca294543",
   "metadata": {},
   "outputs": [
    {
     "data": {
      "text/plain": [
       "0"
      ]
     },
     "execution_count": 30,
     "metadata": {},
     "output_type": "execute_result"
    }
   ],
   "source": [
    "b-= 3 # b = b - 3\n",
    "b"
   ]
  },
  {
   "cell_type": "markdown",
   "id": "6060fd2d",
   "metadata": {},
   "source": [
    "### Типы данных"
   ]
  },
  {
   "cell_type": "markdown",
   "id": "02186cca",
   "metadata": {},
   "source": [
    "type() позволяет узнать тип данных у значения"
   ]
  },
  {
   "cell_type": "code",
   "execution_count": 41,
   "id": "b210a3da",
   "metadata": {},
   "outputs": [
    {
     "data": {
      "text/plain": [
       "str"
      ]
     },
     "execution_count": 41,
     "metadata": {},
     "output_type": "execute_result"
    }
   ],
   "source": [
    "type(\"строка, просто текст\")"
   ]
  },
  {
   "cell_type": "code",
   "execution_count": 42,
   "id": "e2939a2f",
   "metadata": {},
   "outputs": [
    {
     "data": {
      "text/plain": [
       "int"
      ]
     },
     "execution_count": 42,
     "metadata": {},
     "output_type": "execute_result"
    }
   ],
   "source": [
    "type(2342)"
   ]
  },
  {
   "cell_type": "code",
   "execution_count": 43,
   "id": "16e17e2b",
   "metadata": {},
   "outputs": [
    {
     "data": {
      "text/plain": [
       "float"
      ]
     },
     "execution_count": 43,
     "metadata": {},
     "output_type": "execute_result"
    }
   ],
   "source": [
    "type(223.)"
   ]
  },
  {
   "cell_type": "code",
   "execution_count": 44,
   "id": "4f250166",
   "metadata": {},
   "outputs": [
    {
     "data": {
      "text/plain": [
       "bool"
      ]
     },
     "execution_count": 44,
     "metadata": {},
     "output_type": "execute_result"
    }
   ],
   "source": [
    "type(True)"
   ]
  },
  {
   "cell_type": "code",
   "execution_count": 46,
   "id": "30072f85",
   "metadata": {},
   "outputs": [
    {
     "data": {
      "text/plain": [
       "NoneType"
      ]
     },
     "execution_count": 46,
     "metadata": {},
     "output_type": "execute_result"
    }
   ],
   "source": [
    "type(None)"
   ]
  },
  {
   "cell_type": "markdown",
   "id": "edfd2fae",
   "metadata": {},
   "source": [
    "Данные можно приводить из одного типа в другой"
   ]
  },
  {
   "cell_type": "code",
   "execution_count": null,
   "id": "f3136d10",
   "metadata": {},
   "outputs": [
    {
     "data": {
      "text/plain": [
       "2342.0"
      ]
     },
     "execution_count": 47,
     "metadata": {},
     "output_type": "execute_result"
    }
   ],
   "source": [
    "float(2342) # превратили число в дробь"
   ]
  },
  {
   "cell_type": "code",
   "execution_count": null,
   "id": "e4f7644c",
   "metadata": {},
   "outputs": [
    {
     "data": {
      "text/plain": [
       "123.1"
      ]
     },
     "execution_count": 48,
     "metadata": {},
     "output_type": "execute_result"
    }
   ],
   "source": [
    "float(\"123.1\") # превратили строку в дробь"
   ]
  },
  {
   "cell_type": "code",
   "execution_count": 53,
   "id": "21e4737d",
   "metadata": {},
   "outputs": [
    {
     "data": {
      "text/plain": [
       "123"
      ]
     },
     "execution_count": 53,
     "metadata": {},
     "output_type": "execute_result"
    }
   ],
   "source": [
    "int('123')"
   ]
  },
  {
   "cell_type": "code",
   "execution_count": 31,
   "id": "37ad7725",
   "metadata": {},
   "outputs": [
    {
     "ename": "ValueError",
     "evalue": "invalid literal for int() with base 10: 'не всё можно превратить в числовые типы'",
     "output_type": "error",
     "traceback": [
      "\u001b[31m---------------------------------------------------------------------------\u001b[39m",
      "\u001b[31mValueError\u001b[39m                                Traceback (most recent call last)",
      "\u001b[36mCell\u001b[39m\u001b[36m \u001b[39m\u001b[32mIn[31]\u001b[39m\u001b[32m, line 1\u001b[39m\n\u001b[32m----> \u001b[39m\u001b[32m1\u001b[39m \u001b[38;5;28;43mint\u001b[39;49m\u001b[43m(\u001b[49m\u001b[33;43m'\u001b[39;49m\u001b[33;43mне всё можно превратить в числовые типы\u001b[39;49m\u001b[33;43m'\u001b[39;49m\u001b[43m)\u001b[49m\n",
      "\u001b[31mValueError\u001b[39m: invalid literal for int() with base 10: 'не всё можно превратить в числовые типы'"
     ]
    }
   ],
   "source": [
    "int('не всё можно превратить в числовые типы')"
   ]
  },
  {
   "cell_type": "code",
   "execution_count": 54,
   "id": "f67be16e",
   "metadata": {},
   "outputs": [
    {
     "data": {
      "text/plain": [
       "12"
      ]
     },
     "execution_count": 54,
     "metadata": {},
     "output_type": "execute_result"
    }
   ],
   "source": [
    "int(12.2)"
   ]
  },
  {
   "cell_type": "code",
   "execution_count": 55,
   "id": "b23247fe",
   "metadata": {},
   "outputs": [
    {
     "data": {
      "text/plain": [
       "'2.2'"
      ]
     },
     "execution_count": 55,
     "metadata": {},
     "output_type": "execute_result"
    }
   ],
   "source": [
    "str(2.2)"
   ]
  },
  {
   "cell_type": "code",
   "execution_count": 56,
   "id": "e73454d0",
   "metadata": {},
   "outputs": [
    {
     "data": {
      "text/plain": [
       "'5'"
      ]
     },
     "execution_count": 56,
     "metadata": {},
     "output_type": "execute_result"
    }
   ],
   "source": [
    "str(5)"
   ]
  },
  {
   "cell_type": "code",
   "execution_count": 1,
   "id": "d9bf869a",
   "metadata": {},
   "outputs": [
    {
     "data": {
      "text/plain": [
       "36500"
      ]
     },
     "execution_count": 1,
     "metadata": {},
     "output_type": "execute_result"
    }
   ],
   "source": [
    "# TODO пользователь вводит возраст в годах, выведите возраст в днях\n",
    "age = 100\n",
    "age_days= age*365\n",
    "age_days"
   ]
  },
  {
   "cell_type": "markdown",
   "id": "c637e3ee",
   "metadata": {},
   "source": [
    "### Коллекции"
   ]
  },
  {
   "cell_type": "markdown",
   "id": "d3d76038",
   "metadata": {},
   "source": [
    "#### Список `list`"
   ]
  },
  {
   "cell_type": "markdown",
   "id": "dd029ce9",
   "metadata": {},
   "source": [
    "Упорядоченный набор элементов, определяется внутри `[]`."
   ]
  },
  {
   "cell_type": "code",
   "execution_count": 4,
   "id": "c4a339c6",
   "metadata": {},
   "outputs": [
    {
     "data": {
      "text/plain": [
       "[1, 2, 3, 'adfadf', None, 5]"
      ]
     },
     "execution_count": 4,
     "metadata": {},
     "output_type": "execute_result"
    }
   ],
   "source": [
    "some_list = [1, 2, 3, 'adfadf', None, 4+1]\n",
    "some_list"
   ]
  },
  {
   "cell_type": "markdown",
   "id": "ed0f1be6",
   "metadata": {},
   "source": [
    "##### Методы"
   ]
  },
  {
   "cell_type": "markdown",
   "id": "ffe3c886",
   "metadata": {},
   "source": [
    "- `.append(элемент)` добавить элемент\n",
    "- `.sort()` отсортировать по значениям\n",
    "- `.pop()` удалить последний элемент (и извлечь его)\n",
    "- `.index(элемент)` найти индекс элемента"
   ]
  },
  {
   "cell_type": "code",
   "execution_count": 40,
   "id": "9bbe1685",
   "metadata": {},
   "outputs": [
    {
     "data": {
      "text/plain": [
       "[1, 2, 3, 'adfadf', None, 5, 'kek']"
      ]
     },
     "execution_count": 40,
     "metadata": {},
     "output_type": "execute_result"
    }
   ],
   "source": [
    "some_list.append('kek')\n",
    "some_list"
   ]
  },
  {
   "cell_type": "code",
   "execution_count": 34,
   "id": "c3eac8f0",
   "metadata": {},
   "outputs": [
    {
     "ename": "TypeError",
     "evalue": "'<' not supported between instances of 'str' and 'int'",
     "output_type": "error",
     "traceback": [
      "\u001b[31m---------------------------------------------------------------------------\u001b[39m",
      "\u001b[31mTypeError\u001b[39m                                 Traceback (most recent call last)",
      "\u001b[36mCell\u001b[39m\u001b[36m \u001b[39m\u001b[32mIn[34]\u001b[39m\u001b[32m, line 1\u001b[39m\n\u001b[32m----> \u001b[39m\u001b[32m1\u001b[39m \u001b[43msome_list\u001b[49m\u001b[43m.\u001b[49m\u001b[43msort\u001b[49m\u001b[43m(\u001b[49m\u001b[43m)\u001b[49m\n\u001b[32m      2\u001b[39m \u001b[38;5;66;03m# не можем отсортировать потому что внутри есть и строки и числа, а их нельзя сравнит\u001b[39;00m\n",
      "\u001b[31mTypeError\u001b[39m: '<' not supported between instances of 'str' and 'int'"
     ]
    }
   ],
   "source": [
    "some_list.sort()\n",
    "# не можем отсортировать потому что внутри есть и строки и числа, а их нельзя сравнит"
   ]
  },
  {
   "cell_type": "code",
   "execution_count": 36,
   "id": "25529e8b",
   "metadata": {},
   "outputs": [
    {
     "data": {
      "text/plain": [
       "[-1, 1, 1.5, 2, 5]"
      ]
     },
     "execution_count": 36,
     "metadata": {},
     "output_type": "execute_result"
    }
   ],
   "source": [
    "num_list = [1,2,5,1.5,-1]\n",
    "num_list.sort()\n",
    "num_list"
   ]
  },
  {
   "cell_type": "code",
   "execution_count": 42,
   "id": "b80b185c",
   "metadata": {},
   "outputs": [
    {
     "data": {
      "text/plain": [
       "'kek'"
      ]
     },
     "execution_count": 42,
     "metadata": {},
     "output_type": "execute_result"
    }
   ],
   "source": [
    "deleted_el = some_list.pop()\n",
    "\n",
    "deleted_el # удалённый элемент извлекается, его можно использовать"
   ]
  },
  {
   "cell_type": "code",
   "execution_count": 41,
   "id": "3df6b616",
   "metadata": {},
   "outputs": [
    {
     "data": {
      "text/plain": [
       "6"
      ]
     },
     "execution_count": 41,
     "metadata": {},
     "output_type": "execute_result"
    }
   ],
   "source": [
    "some_list.index('kek')"
   ]
  },
  {
   "cell_type": "markdown",
   "id": "74b66aca",
   "metadata": {},
   "source": [
    "##### Индексация\n",
    "\n",
    "Индексация по списку или строке\n",
    "- Извлекаем элемент или букву по номеру\n",
    "- Индексы начинаются с 0\n",
    "- Индексы могут быть отрицательными, в этом случае считается с конца.\n",
    "\n",
    "| элемент/буква | P  | y  | t  | h  | o  | n  |\n",
    "|----|----|----|----|----|----|----|\n",
    "|  индекс  | 0  | 1  | 2  | 3  | 4  | 5  |\n",
    "|  другой индекс  | -6 | -5 | -4 | -3 | -2 | -1 |"
   ]
  },
  {
   "cell_type": "code",
   "execution_count": 1,
   "id": "eb61c17c",
   "metadata": {},
   "outputs": [
    {
     "data": {
      "text/plain": [
       "'h'"
      ]
     },
     "execution_count": 1,
     "metadata": {},
     "output_type": "execute_result"
    }
   ],
   "source": [
    "\"Python\"[3]"
   ]
  },
  {
   "cell_type": "code",
   "execution_count": 2,
   "id": "799d60db",
   "metadata": {},
   "outputs": [
    {
     "data": {
      "text/plain": [
       "'h'"
      ]
     },
     "execution_count": 2,
     "metadata": {},
     "output_type": "execute_result"
    }
   ],
   "source": [
    "\"Python\"[-3]"
   ]
  },
  {
   "cell_type": "code",
   "execution_count": 3,
   "id": "763e7717",
   "metadata": {},
   "outputs": [
    {
     "data": {
      "text/plain": [
       "'h'"
      ]
     },
     "execution_count": 3,
     "metadata": {},
     "output_type": "execute_result"
    }
   ],
   "source": [
    "stroka = \"Python\"\n",
    "stroka[3]"
   ]
  },
  {
   "cell_type": "markdown",
   "id": "607bb5f9",
   "metadata": {},
   "source": [
    "| элемент/буква | 343  | 123451  | 555  |\n",
    "|----|----|----|----|\n",
    "|  индекс  | 0  | 1  | 2  | 3  |\n",
    "|  другой индекс  | -3 | -2 | -1 |"
   ]
  },
  {
   "cell_type": "code",
   "execution_count": 37,
   "id": "8daca6cd",
   "metadata": {},
   "outputs": [
    {
     "data": {
      "text/plain": [
       "343"
      ]
     },
     "execution_count": 37,
     "metadata": {},
     "output_type": "execute_result"
    }
   ],
   "source": [
    "another_list = [343, 123451, 555]\n",
    "another_list[0]"
   ]
  },
  {
   "cell_type": "code",
   "execution_count": 38,
   "id": "018daba4",
   "metadata": {},
   "outputs": [
    {
     "data": {
      "text/plain": [
       "123451"
      ]
     },
     "execution_count": 38,
     "metadata": {},
     "output_type": "execute_result"
    }
   ],
   "source": [
    "another_list[-2]"
   ]
  },
  {
   "cell_type": "code",
   "execution_count": 43,
   "id": "148da95d",
   "metadata": {},
   "outputs": [
    {
     "data": {
      "text/plain": [
       "[1, 2, 3, 'adfadf', None, 5]"
      ]
     },
     "execution_count": 43,
     "metadata": {},
     "output_type": "execute_result"
    }
   ],
   "source": [
    "some_list"
   ]
  },
  {
   "cell_type": "code",
   "execution_count": 44,
   "id": "06dafe07",
   "metadata": {},
   "outputs": [
    {
     "data": {
      "text/plain": [
       "'adfadf'"
      ]
     },
     "execution_count": 44,
     "metadata": {},
     "output_type": "execute_result"
    }
   ],
   "source": [
    "some_list[3]"
   ]
  },
  {
   "cell_type": "code",
   "execution_count": 46,
   "id": "acb56e0c",
   "metadata": {},
   "outputs": [
    {
     "data": {
      "text/plain": [
       "'adfadf'"
      ]
     },
     "execution_count": 46,
     "metadata": {},
     "output_type": "execute_result"
    }
   ],
   "source": [
    "some_list[-3]"
   ]
  },
  {
   "cell_type": "code",
   "execution_count": 45,
   "id": "ad592a03",
   "metadata": {},
   "outputs": [
    {
     "data": {
      "text/plain": [
       "5"
      ]
     },
     "execution_count": 45,
     "metadata": {},
     "output_type": "execute_result"
    }
   ],
   "source": [
    "some_list[-1] # последний элемент"
   ]
  },
  {
   "cell_type": "code",
   "execution_count": 48,
   "id": "42086713",
   "metadata": {},
   "outputs": [
    {
     "data": {
      "text/plain": [
       "[1, 40, 3, 'adfadf', None, 5]"
      ]
     },
     "execution_count": 48,
     "metadata": {},
     "output_type": "execute_result"
    }
   ],
   "source": [
    "some_list[1] = 40 # по индексу можно присвоить значение\n",
    "some_list"
   ]
  },
  {
   "cell_type": "code",
   "execution_count": null,
   "id": "7c43f26c",
   "metadata": {},
   "outputs": [
    {
     "ename": "TypeError",
     "evalue": "'str' object does not support item assignment",
     "output_type": "error",
     "traceback": [
      "\u001b[31m---------------------------------------------------------------------------\u001b[39m",
      "\u001b[31mTypeError\u001b[39m                                 Traceback (most recent call last)",
      "\u001b[36mCell\u001b[39m\u001b[36m \u001b[39m\u001b[32mIn[78]\u001b[39m\u001b[32m, line 1\u001b[39m\n\u001b[32m----> \u001b[39m\u001b[32m1\u001b[39m \u001b[43mname\u001b[49m\u001b[43m[\u001b[49m\u001b[32;43m1\u001b[39;49m\u001b[43m]\u001b[49m = \u001b[33m'\u001b[39m\u001b[33mD\u001b[39m\u001b[33m'\u001b[39m\n",
      "\u001b[31mTypeError\u001b[39m: 'str' object does not support item assignment"
     ]
    }
   ],
   "source": [
    "name[1] = 'D' # в строке так нельзя"
   ]
  },
  {
   "cell_type": "markdown",
   "id": "8e772f97",
   "metadata": {},
   "source": [
    "##### Срезы\n",
    "\n",
    "Срезы (slice) позволяют взять часть последовательности по индексам без изменения оригинала.\n",
    "\n",
    "Синтаксис: `[start:stop:step]`\n",
    "- `start` — индекс начала, берётся включительно, если не указан, берётся начало последовательности;\n",
    "- `stop` — индекс конца берётся не включительно, если не указан, берётся конец последовательности;\n",
    "- `step` — шаг отбора, если не указан, берётся 1.\n",
    "\n",
    "`[от какого индекса : до какого индекса : через сколько элементов]`"
   ]
  },
  {
   "cell_type": "markdown",
   "id": "74e8971e",
   "metadata": {},
   "source": [
    "Возьмём срез строки и списка от 1 до 3. Начало включительно (>=1), конец не включительно (<3), поэтому вошли элементы с индексами 1 и 2, а 3 уже не вошёл."
   ]
  },
  {
   "cell_type": "code",
   "execution_count": null,
   "id": "11f1b515",
   "metadata": {},
   "outputs": [
    {
     "data": {
      "text/plain": [
       "'ri'"
      ]
     },
     "execution_count": 79,
     "metadata": {},
     "output_type": "execute_result"
    }
   ],
   "source": [
    "name[1:3]"
   ]
  },
  {
   "cell_type": "code",
   "execution_count": 49,
   "id": "c988ca6f",
   "metadata": {},
   "outputs": [
    {
     "data": {
      "text/plain": [
       "[40, 3]"
      ]
     },
     "execution_count": 49,
     "metadata": {},
     "output_type": "execute_result"
    }
   ],
   "source": [
    "some_list[1:3]"
   ]
  },
  {
   "cell_type": "markdown",
   "id": "c550ed16",
   "metadata": {},
   "source": [
    "Значения могут быть отрицательными (тогда счёт идёт с конца), например -1 — последний элемент.\n",
    "\n",
    "Шаг может быть отрицательным, что позволяет идти по последовательности в обратном порядке.\n",
    "\n",
    "Возвращаемый тип обычно совпадает с типом исходной последовательности (список → список, строка → строка, кортеж → кортеж);\n",
    "\n",
    "Применимо присваивание через срез к спискам, чтобы изменить их содержимое."
   ]
  },
  {
   "cell_type": "code",
   "execution_count": 81,
   "id": "bf1993bf",
   "metadata": {},
   "outputs": [
    {
     "data": {
      "text/plain": [
       "[1, 55, 56, 'adfadf', None, 'kek']"
      ]
     },
     "execution_count": 81,
     "metadata": {},
     "output_type": "execute_result"
    }
   ],
   "source": [
    "some_list[1:3] = [55, 56]\n",
    "some_list"
   ]
  },
  {
   "cell_type": "code",
   "execution_count": 52,
   "id": "d153c301",
   "metadata": {},
   "outputs": [
    {
     "data": {
      "text/plain": [
       "'Gih'"
      ]
     },
     "execution_count": 52,
     "metadata": {},
     "output_type": "execute_result"
    }
   ],
   "source": [
    "name[::2]"
   ]
  },
  {
   "cell_type": "code",
   "execution_count": 88,
   "id": "cc5350fd",
   "metadata": {},
   "outputs": [
    {
     "data": {
      "text/plain": [
       "'ah'"
      ]
     },
     "execution_count": 88,
     "metadata": {},
     "output_type": "execute_result"
    }
   ],
   "source": [
    "name[-1:-3:-1]"
   ]
  },
  {
   "cell_type": "markdown",
   "id": "8e71f6a0",
   "metadata": {},
   "source": [
    "##### Арифметика\n",
    "\n",
    "В строке и списке очень похожая арифметика, рассмотрим сразу их вместе.\n",
    "- `+` конкатенация, просто склеиваем подряд\n",
    "- `*` дублируем сколько-то раз и склеиваем подряд\n",
    "- `-`, `/`, и тд не работают"
   ]
  },
  {
   "cell_type": "code",
   "execution_count": 54,
   "id": "da085a69",
   "metadata": {},
   "outputs": [
    {
     "data": {
      "text/plain": [
       "'abcdef'"
      ]
     },
     "execution_count": 54,
     "metadata": {},
     "output_type": "execute_result"
    }
   ],
   "source": [
    "\"abc\" + \"def\""
   ]
  },
  {
   "cell_type": "code",
   "execution_count": 92,
   "id": "90e37113",
   "metadata": {},
   "outputs": [
    {
     "data": {
      "text/plain": [
       "[1, 55, 56, 'adfadf', None, 'kek', 1, 2, 3]"
      ]
     },
     "execution_count": 92,
     "metadata": {},
     "output_type": "execute_result"
    }
   ],
   "source": [
    "some_list + [1,2,3]"
   ]
  },
  {
   "cell_type": "markdown",
   "id": "51a91b6f",
   "metadata": {},
   "source": [
    "Строку нельзя сложить с не строкой. Список тоже."
   ]
  },
  {
   "cell_type": "code",
   "execution_count": 56,
   "id": "c59146a4",
   "metadata": {},
   "outputs": [
    {
     "ename": "TypeError",
     "evalue": "can only concatenate str (not \"int\") to str",
     "output_type": "error",
     "traceback": [
      "\u001b[31m---------------------------------------------------------------------------\u001b[39m",
      "\u001b[31mTypeError\u001b[39m                                 Traceback (most recent call last)",
      "\u001b[36mCell\u001b[39m\u001b[36m \u001b[39m\u001b[32mIn[56]\u001b[39m\u001b[32m, line 1\u001b[39m\n\u001b[32m----> \u001b[39m\u001b[32m1\u001b[39m \u001b[33;43m\"\u001b[39;49m\u001b[33;43m132.1\u001b[39;49m\u001b[33;43m\"\u001b[39;49m\u001b[43m \u001b[49m\u001b[43m+\u001b[49m\u001b[43m \u001b[49m\u001b[32;43m4\u001b[39;49m\n",
      "\u001b[31mTypeError\u001b[39m: can only concatenate str (not \"int\") to str"
     ]
    }
   ],
   "source": [
    "\"132.1\" + 4"
   ]
  },
  {
   "cell_type": "code",
   "execution_count": 55,
   "id": "e776580d",
   "metadata": {},
   "outputs": [
    {
     "ename": "TypeError",
     "evalue": "can only concatenate list (not \"int\") to list",
     "output_type": "error",
     "traceback": [
      "\u001b[31m---------------------------------------------------------------------------\u001b[39m",
      "\u001b[31mTypeError\u001b[39m                                 Traceback (most recent call last)",
      "\u001b[36mCell\u001b[39m\u001b[36m \u001b[39m\u001b[32mIn[55]\u001b[39m\u001b[32m, line 1\u001b[39m\n\u001b[32m----> \u001b[39m\u001b[32m1\u001b[39m \u001b[43m[\u001b[49m\u001b[32;43m1\u001b[39;49m\u001b[43m,\u001b[49m\u001b[32;43m2\u001b[39;49m\u001b[43m,\u001b[49m\u001b[32;43m3\u001b[39;49m\u001b[43m]\u001b[49m\u001b[43m \u001b[49m\u001b[43m+\u001b[49m\u001b[43m \u001b[49m\u001b[32;43m4\u001b[39;49m\n",
      "\u001b[31mTypeError\u001b[39m: can only concatenate list (not \"int\") to list"
     ]
    }
   ],
   "source": [
    "[1,2,3] + 4"
   ]
  },
  {
   "cell_type": "code",
   "execution_count": 90,
   "id": "425e006b",
   "metadata": {},
   "outputs": [
    {
     "data": {
      "text/plain": [
       "'abcabcabc'"
      ]
     },
     "execution_count": 90,
     "metadata": {},
     "output_type": "execute_result"
    }
   ],
   "source": [
    "\"abc\" * 3"
   ]
  },
  {
   "cell_type": "code",
   "execution_count": 57,
   "id": "7c2d42d1",
   "metadata": {},
   "outputs": [
    {
     "data": {
      "text/plain": [
       "[1, 40, 3, 'adfadf', None, 5, 1, 40, 3, 'adfadf', None, 5]"
      ]
     },
     "execution_count": 57,
     "metadata": {},
     "output_type": "execute_result"
    }
   ],
   "source": [
    "some_list * 2"
   ]
  },
  {
   "cell_type": "markdown",
   "id": "2657b50a",
   "metadata": {},
   "source": [
    "#### Словарь `dict`"
   ]
  },
  {
   "cell_type": "markdown",
   "id": "9e668cd9",
   "metadata": {},
   "source": [
    "Словарь — это коллекция пар ключи-значения. По ключу можно быстро найти связанное с ним значение. Ключи должны быть уникальными и хешируемыми (об этом в след уроке) внутри словаря, значения — любые. Внутри словаря хранится порядок этих пар, каждый ключ сопоставляется одному значению."
   ]
  },
  {
   "cell_type": "code",
   "execution_count": 45,
   "id": "d2ccbdcb",
   "metadata": {},
   "outputs": [
    {
     "data": {
      "text/plain": [
       "{'key': 'value', 3: 123123, 'some_list': [1, 2, 3, 'adfadf', None, 5]}"
      ]
     },
     "execution_count": 45,
     "metadata": {},
     "output_type": "execute_result"
    }
   ],
   "source": [
    "my_dict = {\"key\": \"value\", 3: 123123, \"some_list\": some_list}\n",
    "my_dict"
   ]
  },
  {
   "cell_type": "code",
   "execution_count": 58,
   "id": "f0261902",
   "metadata": {},
   "outputs": [
    {
     "data": {
      "text/plain": [
       "{'a': 2, 'b': 4, 'c': 6}"
      ]
     },
     "execution_count": 58,
     "metadata": {},
     "output_type": "execute_result"
    }
   ],
   "source": [
    "another_dict = dict(a=2,b=4,c=6)\n",
    "another_dict"
   ]
  },
  {
   "cell_type": "markdown",
   "id": "38860961",
   "metadata": {},
   "source": [
    "Доступ к элементам словаря и их добавление/изменение"
   ]
  },
  {
   "cell_type": "code",
   "execution_count": 61,
   "id": "93c3fa7b",
   "metadata": {},
   "outputs": [
    {
     "data": {
      "text/plain": [
       "'value'"
      ]
     },
     "execution_count": 61,
     "metadata": {},
     "output_type": "execute_result"
    }
   ],
   "source": [
    "my_dict['key']"
   ]
  },
  {
   "cell_type": "code",
   "execution_count": null,
   "id": "6e15c0f4",
   "metadata": {},
   "outputs": [
    {
     "ename": "KeyError",
     "evalue": "'3'",
     "output_type": "error",
     "traceback": [
      "\u001b[31m---------------------------------------------------------------------------\u001b[39m",
      "\u001b[31mKeyError\u001b[39m                                  Traceback (most recent call last)",
      "\u001b[36mCell\u001b[39m\u001b[36m \u001b[39m\u001b[32mIn[100]\u001b[39m\u001b[32m, line 1\u001b[39m\n\u001b[32m----> \u001b[39m\u001b[32m1\u001b[39m \u001b[43mmy_dict\u001b[49m\u001b[43m[\u001b[49m\u001b[33;43m\"\u001b[39;49m\u001b[33;43m3\u001b[39;49m\u001b[33;43m\"\u001b[39;49m\u001b[43m]\u001b[49m\n",
      "\u001b[31mKeyError\u001b[39m: '3'"
     ]
    }
   ],
   "source": [
    "my_dict[\"3\"] # ошибка, такого ключа нет"
   ]
  },
  {
   "cell_type": "code",
   "execution_count": 107,
   "id": "210e56a7",
   "metadata": {},
   "outputs": [
    {
     "data": {
      "text/plain": [
       "{'key': 'value',\n",
       " 3: 123123,\n",
       " 'some_list': [1, 55, 56, 'adfadf', None, 'kek'],\n",
       " 'new_key': 'new_value'}"
      ]
     },
     "execution_count": 107,
     "metadata": {},
     "output_type": "execute_result"
    }
   ],
   "source": [
    "my_dict[\"new_key\"] = \"new_value\"\n",
    "my_dict"
   ]
  },
  {
   "cell_type": "code",
   "execution_count": 62,
   "id": "9790dc5b",
   "metadata": {},
   "outputs": [
    {
     "data": {
      "text/plain": [
       "{'key': 'value',\n",
       " 3: 123123,\n",
       " 'some_list': [1, 40, 3, 'adfadf', None, 5],\n",
       " 'new_key': 'теперь другое значение'}"
      ]
     },
     "execution_count": 62,
     "metadata": {},
     "output_type": "execute_result"
    }
   ],
   "source": [
    "my_dict[\"new_key\"] = \"теперь другое значение\"\n",
    "my_dict"
   ]
  },
  {
   "cell_type": "markdown",
   "id": "f026a2bd",
   "metadata": {},
   "source": [
    "ключевое слово `del` в словаре удаляет элемент"
   ]
  },
  {
   "cell_type": "code",
   "execution_count": 63,
   "id": "9ed6c597",
   "metadata": {},
   "outputs": [
    {
     "data": {
      "text/plain": [
       "{'key': 'value', 3: 123123, 'some_list': [1, 40, 3, 'adfadf', None, 5]}"
      ]
     },
     "execution_count": 63,
     "metadata": {},
     "output_type": "execute_result"
    }
   ],
   "source": [
    "del my_dict[\"new_key\"]\n",
    "my_dict"
   ]
  },
  {
   "cell_type": "code",
   "execution_count": null,
   "id": "ca079ce3",
   "metadata": {},
   "outputs": [
    {
     "data": {
      "text/plain": [
       "'Naboo'"
      ]
     },
     "execution_count": 82,
     "metadata": {},
     "output_type": "execute_result"
    }
   ],
   "source": [
    "# TODO словарь персонажей Звёздных Войн, значения - названия планет откуда они\n",
    "\n",
    "star_wars_heroes['Padme']"
   ]
  },
  {
   "cell_type": "markdown",
   "id": "6a878f59",
   "metadata": {},
   "source": [
    "##### Методы\n",
    "- `.keys()` получить все ключи\n",
    "- `.values()`получить все значения\n",
    "- `.items()` получить пары ключ-значение"
   ]
  },
  {
   "cell_type": "code",
   "execution_count": 103,
   "id": "f5ff245f",
   "metadata": {},
   "outputs": [
    {
     "data": {
      "text/plain": [
       "dict_keys(['key', 3, 'some_list'])"
      ]
     },
     "execution_count": 103,
     "metadata": {},
     "output_type": "execute_result"
    }
   ],
   "source": [
    "my_dict.keys()"
   ]
  },
  {
   "cell_type": "code",
   "execution_count": 104,
   "id": "ecec9bf1",
   "metadata": {},
   "outputs": [
    {
     "data": {
      "text/plain": [
       "dict_values(['value', 123123, [1, 55, 56, 'adfadf', None, 'kek']])"
      ]
     },
     "execution_count": 104,
     "metadata": {},
     "output_type": "execute_result"
    }
   ],
   "source": [
    "my_dict.values()"
   ]
  },
  {
   "cell_type": "code",
   "execution_count": 105,
   "id": "9ec3757b",
   "metadata": {},
   "outputs": [
    {
     "data": {
      "text/plain": [
       "dict_items([('key', 'value'), (3, 123123), ('some_list', [1, 55, 56, 'adfadf', None, 'kek'])])"
      ]
     },
     "execution_count": 105,
     "metadata": {},
     "output_type": "execute_result"
    }
   ],
   "source": [
    "my_dict.items()"
   ]
  },
  {
   "cell_type": "markdown",
   "id": "f698fe29",
   "metadata": {},
   "source": [
    "#### Многоуровневые коллекции\n",
    "\n",
    "Это вложенные структуры, например списки внутри списков, словари внутри словарей, или их сочетания. Они отлично подходят для представления иерархий, JSON-подобных данных, деревьев и т. п."
   ]
  },
  {
   "cell_type": "code",
   "execution_count": 77,
   "id": "1d71202b",
   "metadata": {},
   "outputs": [
    {
     "data": {
      "text/plain": [
       "{'company': {'name': 'Acme Corp',\n",
       "  'departments': [{'name': 'Engineering',\n",
       "    'teams': [{'name': 'Backend', 'members': 5},\n",
       "     {'name': 'Frontend', 'members': 4}]},\n",
       "   {'name': 'HR', 'members': 3}]}}"
      ]
     },
     "execution_count": 77,
     "metadata": {},
     "output_type": "execute_result"
    }
   ],
   "source": [
    "# Пример: компания с отделами и командами\n",
    "data = {\n",
    "    \"company\": {\n",
    "        \"name\": \"Acme Corp\",\n",
    "        \"departments\": [\n",
    "            {\n",
    "                \"name\": \"Engineering\",\n",
    "                \"teams\": [\n",
    "                    {\"name\": \"Backend\", \"members\": 5},\n",
    "                    {\"name\": \"Frontend\", \"members\": 4}\n",
    "                ]\n",
    "            },\n",
    "            {\n",
    "                \"name\": \"HR\",\n",
    "                \"members\": 3\n",
    "            }\n",
    "        ]\n",
    "    }\n",
    "}\n",
    "data"
   ]
  },
  {
   "cell_type": "markdown",
   "id": "b5e57665",
   "metadata": {},
   "source": [
    "`data[\"company\"]` извлечёт словарь, из словаря мы можем далее тоже извлечь значение. Просто приписываем `[]` и извлекаем данные вглубь."
   ]
  },
  {
   "cell_type": "code",
   "execution_count": 78,
   "id": "b6427eb2",
   "metadata": {},
   "outputs": [
    {
     "data": {
      "text/plain": [
       "{'name': 'Engineering',\n",
       " 'teams': [{'name': 'Backend', 'members': 5},\n",
       "  {'name': 'Frontend', 'members': 4}]}"
      ]
     },
     "execution_count": 78,
     "metadata": {},
     "output_type": "execute_result"
    }
   ],
   "source": [
    "dept = data[\"company\"][\"departments\"][0]\n",
    "dept"
   ]
  },
  {
   "cell_type": "code",
   "execution_count": 79,
   "id": "6d6457d8",
   "metadata": {},
   "outputs": [
    {
     "data": {
      "text/plain": [
       "'Backend'"
      ]
     },
     "execution_count": 79,
     "metadata": {},
     "output_type": "execute_result"
    }
   ],
   "source": [
    "team_name = dept[\"teams\"][0][\"name\"]\n",
    "team_name"
   ]
  },
  {
   "cell_type": "code",
   "execution_count": 3,
   "id": "6ae8effb",
   "metadata": {},
   "outputs": [],
   "source": [
    "lst = [1,2,[3,4],[5,[100,200,['hello']],23,11],1,7]"
   ]
  },
  {
   "cell_type": "code",
   "execution_count": 4,
   "id": "be0351bd",
   "metadata": {},
   "outputs": [
    {
     "data": {
      "text/plain": [
       "['hello']"
      ]
     },
     "execution_count": 4,
     "metadata": {},
     "output_type": "execute_result"
    }
   ],
   "source": [
    "# TODO - извлеките 'hello'\n",
    "lst[3][1][2]"
   ]
  },
  {
   "cell_type": "code",
   "execution_count": 8,
   "id": "2b3d50fd",
   "metadata": {},
   "outputs": [],
   "source": [
    "d = {'k1':[1,2,3,{'tricky':['oh','man','inception',{'target':[1,2,3,'hello']}]}]}"
   ]
  },
  {
   "cell_type": "code",
   "execution_count": 9,
   "id": "41ad00f2",
   "metadata": {},
   "outputs": [
    {
     "data": {
      "text/plain": [
       "'hello'"
      ]
     },
     "execution_count": 9,
     "metadata": {},
     "output_type": "execute_result"
    }
   ],
   "source": [
    "# TODO - извлеките 'hello'\n",
    "d['k1'][3]['tricky'][3]['target'][3]"
   ]
  },
  {
   "cell_type": "markdown",
   "id": "6475c219",
   "metadata": {},
   "source": [
    "#### in\n",
    "\n",
    "Проверка наличия элемента в коллекции (список, строка, словарь, и тд). Можно добавить `not`."
   ]
  },
  {
   "cell_type": "code",
   "execution_count": 110,
   "id": "5d40d7c6",
   "metadata": {},
   "outputs": [
    {
     "data": {
      "text/plain": [
       "False"
      ]
     },
     "execution_count": 110,
     "metadata": {},
     "output_type": "execute_result"
    }
   ],
   "source": [
    "54 in some_list"
   ]
  },
  {
   "cell_type": "code",
   "execution_count": 73,
   "id": "dcbf276c",
   "metadata": {},
   "outputs": [
    {
     "data": {
      "text/plain": [
       "True"
      ]
     },
     "execution_count": 73,
     "metadata": {},
     "output_type": "execute_result"
    }
   ],
   "source": [
    "54 not in some_list"
   ]
  },
  {
   "cell_type": "code",
   "execution_count": 111,
   "id": "466b4fbd",
   "metadata": {},
   "outputs": [
    {
     "data": {
      "text/plain": [
       "True"
      ]
     },
     "execution_count": 111,
     "metadata": {},
     "output_type": "execute_result"
    }
   ],
   "source": [
    "'r' in name"
   ]
  },
  {
   "cell_type": "code",
   "execution_count": 64,
   "id": "7dde4252",
   "metadata": {},
   "outputs": [
    {
     "data": {
      "text/plain": [
       "False"
      ]
     },
     "execution_count": 64,
     "metadata": {},
     "output_type": "execute_result"
    }
   ],
   "source": [
    "'new_key' in my_dict"
   ]
  },
  {
   "cell_type": "code",
   "execution_count": 65,
   "id": "2d7b4032",
   "metadata": {},
   "outputs": [
    {
     "data": {
      "text/plain": [
       "True"
      ]
     },
     "execution_count": 65,
     "metadata": {},
     "output_type": "execute_result"
    }
   ],
   "source": [
    "'key' in my_dict"
   ]
  },
  {
   "cell_type": "code",
   "execution_count": 67,
   "id": "028318d5",
   "metadata": {},
   "outputs": [
    {
     "data": {
      "text/plain": [
       "False"
      ]
     },
     "execution_count": 67,
     "metadata": {},
     "output_type": "execute_result"
    }
   ],
   "source": [
    "'new_value' in my_dict # в словаре проверяется наличие в ключах, не в значениях"
   ]
  },
  {
   "cell_type": "markdown",
   "id": "1b25d9ba",
   "metadata": {},
   "source": [
    "#### Указатели\n",
    "Немного духоты. При создании любого объекта (например коллекции), под его именем сохраняется не значение, а указатель на него в памяти. Мы можем присвоить этот указатель другой переменной и поменять объект через неё, он будет изменён и при обращении через исходную."
   ]
  },
  {
   "cell_type": "code",
   "execution_count": 68,
   "id": "8264f08c",
   "metadata": {},
   "outputs": [
    {
     "data": {
      "text/plain": [
       "[1, 40, 3, 'adfadf', None, 5]"
      ]
     },
     "execution_count": 68,
     "metadata": {},
     "output_type": "execute_result"
    }
   ],
   "source": [
    "some_list"
   ]
  },
  {
   "cell_type": "code",
   "execution_count": 69,
   "id": "8a885995",
   "metadata": {},
   "outputs": [
    {
     "data": {
      "text/plain": [
       "[1, 40, 3, 'adfadf', None, 5]"
      ]
     },
     "execution_count": 69,
     "metadata": {},
     "output_type": "execute_result"
    }
   ],
   "source": [
    "another_pointer_to_list = some_list\n",
    "another_pointer_to_list"
   ]
  },
  {
   "cell_type": "code",
   "execution_count": 70,
   "id": "c233e32d",
   "metadata": {},
   "outputs": [
    {
     "data": {
      "text/plain": [
       "5"
      ]
     },
     "execution_count": 70,
     "metadata": {},
     "output_type": "execute_result"
    }
   ],
   "source": [
    "some_list.pop()"
   ]
  },
  {
   "cell_type": "code",
   "execution_count": 71,
   "id": "b9ffd7ee",
   "metadata": {},
   "outputs": [
    {
     "data": {
      "text/plain": [
       "[1, 40, 3, 'adfadf', None]"
      ]
     },
     "execution_count": 71,
     "metadata": {},
     "output_type": "execute_result"
    }
   ],
   "source": [
    "some_list"
   ]
  },
  {
   "cell_type": "code",
   "execution_count": 72,
   "id": "9c827b1a",
   "metadata": {},
   "outputs": [
    {
     "data": {
      "text/plain": [
       "[1, 40, 3, 'adfadf', None]"
      ]
     },
     "execution_count": 72,
     "metadata": {},
     "output_type": "execute_result"
    }
   ],
   "source": [
    "another_pointer_to_list"
   ]
  },
  {
   "cell_type": "markdown",
   "id": "81de312d",
   "metadata": {},
   "source": [
    "Для проверки указывают ли указатели на один объект используется `is`, но его мы рассмотрим сильно позже. Два одинаковых списка это всё ещё отдельные объекты в памяти, даже если идентичны по содержанию."
   ]
  },
  {
   "cell_type": "code",
   "execution_count": 119,
   "id": "1207fc39",
   "metadata": {},
   "outputs": [
    {
     "data": {
      "text/plain": [
       "True"
      ]
     },
     "execution_count": 119,
     "metadata": {},
     "output_type": "execute_result"
    }
   ],
   "source": [
    "some_list is another_pointer_to_list"
   ]
  },
  {
   "cell_type": "code",
   "execution_count": 120,
   "id": "2ab2a55b",
   "metadata": {},
   "outputs": [
    {
     "data": {
      "text/plain": [
       "False"
      ]
     },
     "execution_count": 120,
     "metadata": {},
     "output_type": "execute_result"
    }
   ],
   "source": [
    "[1,2,3] is some_list"
   ]
  },
  {
   "cell_type": "code",
   "execution_count": 121,
   "id": "5ac4023d",
   "metadata": {},
   "outputs": [
    {
     "data": {
      "text/plain": [
       "False"
      ]
     },
     "execution_count": 121,
     "metadata": {},
     "output_type": "execute_result"
    }
   ],
   "source": [
    "[1,2,3] is [1,2,3]"
   ]
  },
  {
   "cell_type": "code",
   "execution_count": 122,
   "id": "1ff4bc23",
   "metadata": {},
   "outputs": [
    {
     "data": {
      "text/plain": [
       "True"
      ]
     },
     "execution_count": 122,
     "metadata": {},
     "output_type": "execute_result"
    }
   ],
   "source": [
    "[1,2,3] == [1,2,3]"
   ]
  },
  {
   "cell_type": "code",
   "execution_count": null,
   "id": "cdcb3d0f",
   "metadata": {},
   "outputs": [],
   "source": [
    "# TODO попробуйте, работает ли это со списком, строкой, дробью, числом?\n",
    "str = 'gyjfthsrs'"
   ]
  },
  {
   "cell_type": "code",
   "execution_count": 11,
   "id": "27ba2169",
   "metadata": {},
   "outputs": [
    {
     "data": {
      "text/plain": [
       "False"
      ]
     },
     "execution_count": 11,
     "metadata": {},
     "output_type": "execute_result"
    }
   ],
   "source": [
    "'a' is str"
   ]
  },
  {
   "cell_type": "code",
   "execution_count": 13,
   "id": "ee4e9bdf",
   "metadata": {},
   "outputs": [
    {
     "data": {
      "text/plain": [
       "False"
      ]
     },
     "execution_count": 13,
     "metadata": {},
     "output_type": "execute_result"
    }
   ],
   "source": [
    "'gyjfthsrs' is str"
   ]
  },
  {
   "cell_type": "code",
   "execution_count": 14,
   "id": "dfa0d2d4",
   "metadata": {},
   "outputs": [
    {
     "data": {
      "text/plain": [
       "False"
      ]
     },
     "execution_count": 14,
     "metadata": {},
     "output_type": "execute_result"
    }
   ],
   "source": [
    "str1 = 'gyjfthsrs'\n",
    "str is str1"
   ]
  },
  {
   "cell_type": "markdown",
   "id": "9672cb22",
   "metadata": {},
   "source": [
    "### `if`\n",
    "\n",
    "`if` позволяет поставить условие выполнения блока кода. Если условие равно `True`, то программа выполняет блок кода.\n",
    "\n",
    "В python блоки кода разделяются табуляцией. По умолчанию это 4 пробела, можно сделать другое количество либо Tab. В VScode у вас внизу справа есть настройка как делать индентацию.\n",
    "\n",
    "Для примера, сейчас будет выводиться разный текст в зависимости от значения переменной. Блок if начинается с строки с двоеточием, дальше идёт вложенный код с отступом."
   ]
  },
  {
   "cell_type": "code",
   "execution_count": 19,
   "id": "0af8839f",
   "metadata": {},
   "outputs": [
    {
     "name": "stdout",
     "output_type": "stream",
     "text": [
      "до новых встреч!\n"
     ]
    }
   ],
   "source": [
    "password = '456'\n",
    "true_password = '123'\n",
    "\n",
    "if password == true_password:\n",
    "    # в этот блок кода программа заходит только если условие истинно\n",
    "    print('correct')\n",
    "    print('ещё какие-нибудь операции')\n",
    "\n",
    "# здесь программа пройдёт в любом случае, это уже не блок кода внутри if\n",
    "print('до новых встреч!')"
   ]
  },
  {
   "cell_type": "markdown",
   "id": "0a57a05f",
   "metadata": {},
   "source": [
    "Более понятным кодом считается проверка условия либо флага без уточнения что должно быть равно `True`\n",
    "\n",
    "Вот так писать не принято:"
   ]
  },
  {
   "cell_type": "code",
   "execution_count": 16,
   "id": "f314341f",
   "metadata": {},
   "outputs": [
    {
     "name": "stdout",
     "output_type": "stream",
     "text": [
      "character is alive\n",
      "6>5\n"
     ]
    }
   ],
   "source": [
    "is_alive = True\n",
    "\n",
    "if is_alive == True:\n",
    "    print('character is alive')\n",
    "\n",
    "if (3+3 > 5) == True:\n",
    "    print('6>5')"
   ]
  },
  {
   "cell_type": "markdown",
   "id": "52ddeb56",
   "metadata": {},
   "source": [
    "Такой код более понятный и читаемый:"
   ]
  },
  {
   "cell_type": "code",
   "execution_count": 17,
   "id": "406d40aa",
   "metadata": {},
   "outputs": [
    {
     "name": "stdout",
     "output_type": "stream",
     "text": [
      "character is alive\n",
      "6>5\n"
     ]
    }
   ],
   "source": [
    "if is_alive:\n",
    "    print('character is alive')\n",
    "\n",
    "if 3+3 > 5:\n",
    "    print('6>5')"
   ]
  },
  {
   "cell_type": "markdown",
   "id": "c7914d9a",
   "metadata": {},
   "source": [
    "`else` - альтернативное условие, что будет если условие не выполнится. Пример к картинке ниже"
   ]
  },
  {
   "cell_type": "code",
   "execution_count": 20,
   "id": "e5c17ff9",
   "metadata": {},
   "outputs": [
    {
     "name": "stdout",
     "output_type": "stream",
     "text": [
      "hi Grisha\n",
      "ЫЫЫЫ\n"
     ]
    }
   ],
   "source": [
    "name = input() # команда1\n",
    "if name == 'Grisha':\n",
    "    print('hi Grisha') # команда2\n",
    "else:\n",
    "    print('Hi') # команда3\n",
    "print('ЫЫЫЫ') # команда4"
   ]
  },
  {
   "cell_type": "markdown",
   "id": "81cb9dc9",
   "metadata": {},
   "source": [
    "![Image](imgs/2025-08-17_16-54-40.png)"
   ]
  },
  {
   "cell_type": "markdown",
   "id": "e3ace6f5",
   "metadata": {},
   "source": [
    "Блоки кода могут быть сколь угодно вложенными. Чтобы продолжить логику на следующем уровне вложенности, добавьте ещё один уровень отступа. Лучше избегать глубокой вложенности, особенно дерева if-else, но рассмотрим такой пример."
   ]
  },
  {
   "cell_type": "code",
   "execution_count": 23,
   "id": "f6594165",
   "metadata": {},
   "outputs": [
    {
     "name": "stdout",
     "output_type": "stream",
     "text": [
      "Баллы: 85 Оценка: B\n"
     ]
    }
   ],
   "source": [
    "score = 85\n",
    "if score >= 90:\n",
    "    grade = 'A'\n",
    "else:\n",
    "    if score >= 80:\n",
    "        grade = 'B'\n",
    "    else:\n",
    "        if score >= 70:\n",
    "            grade = 'C'\n",
    "        else:\n",
    "            if score >= 60:\n",
    "                grade = 'D'\n",
    "            else:\n",
    "                grade = 'F'\n",
    "print(\"Баллы:\", score, \"Оценка:\", grade)"
   ]
  },
  {
   "cell_type": "markdown",
   "id": "954a86f4",
   "metadata": {},
   "source": [
    "`elif` позволяет оформить множественное условие красиво. Это то же самое что `else: if`"
   ]
  },
  {
   "cell_type": "code",
   "execution_count": 24,
   "id": "70fdf280",
   "metadata": {},
   "outputs": [
    {
     "name": "stdout",
     "output_type": "stream",
     "text": [
      "Баллы: 85 Оценка: B\n"
     ]
    }
   ],
   "source": [
    "score = 85\n",
    "if score >= 90:\n",
    "    grade = 'A'\n",
    "elif score >= 80:\n",
    "    grade = 'B'\n",
    "elif score >= 70:\n",
    "    grade = 'C'\n",
    "elif score >= 60:\n",
    "    grade = 'D'\n",
    "else:\n",
    "    grade = 'F'\n",
    "print(\"Баллы:\", score, \"Оценка:\", grade)"
   ]
  },
  {
   "cell_type": "markdown",
   "id": "4a378ea3",
   "metadata": {},
   "source": [
    "### Циклы\n",
    "\n",
    "Используются для многократного выполнения кода\n",
    "\n",
    "Повторение действий до тех пор, пока не исчерпаны данные или пока выполняется некоторое условие"
   ]
  },
  {
   "cell_type": "markdown",
   "id": "24e23371",
   "metadata": {},
   "source": [
    "#### `for`\n",
    "\n",
    "`for` элемент `in` коллекция:\n",
    "- блок кода который нужно повторить для каждого элемента\n",
    "\n",
    "элемент - это ваша произвольная переменная, которая присваивается в момент каждого выполнения, вы можете назвать её как угодно"
   ]
  },
  {
   "cell_type": "code",
   "execution_count": 27,
   "id": "a5d8e4fa",
   "metadata": {},
   "outputs": [
    {
     "name": "stdout",
     "output_type": "stream",
     "text": [
      "1\n",
      "2\n",
      "3\n",
      "adfadf\n",
      "None\n",
      "5\n"
     ]
    }
   ],
   "source": [
    "for element in some_list:\n",
    "    print(element)"
   ]
  },
  {
   "cell_type": "code",
   "execution_count": 28,
   "id": "4b2ec337",
   "metadata": {},
   "outputs": [
    {
     "name": "stdout",
     "output_type": "stream",
     "text": [
      "1\n",
      "2\n",
      "3\n",
      "adfadf\n",
      "None\n",
      "5\n"
     ]
    }
   ],
   "source": [
    "for cringe in some_list:\n",
    "    print(cringe)"
   ]
  },
  {
   "cell_type": "markdown",
   "id": "cae158d2",
   "metadata": {},
   "source": [
    "На данный момент, последний раз переменной присваивалось последнее значение из списка\n",
    "\n",
    "Чтобы не путаться, переменные, используемые для `for`, обычно не используют потом"
   ]
  },
  {
   "cell_type": "code",
   "execution_count": 29,
   "id": "44d3ea9e",
   "metadata": {},
   "outputs": [
    {
     "data": {
      "text/plain": [
       "5"
      ]
     },
     "execution_count": 29,
     "metadata": {},
     "output_type": "execute_result"
    }
   ],
   "source": [
    "cringe"
   ]
  },
  {
   "cell_type": "markdown",
   "id": "2fd56a55",
   "metadata": {},
   "source": [
    "Можно идти по буквам строки. Выведем все буквы, делая каждую гласную заглавной:"
   ]
  },
  {
   "cell_type": "code",
   "execution_count": null,
   "id": "95845096",
   "metadata": {},
   "outputs": [
    {
     "name": "stdout",
     "output_type": "stream",
     "text": [
      "d\n",
      "w\n",
      "A\n",
      "r\n",
      "f\n"
     ]
    }
   ],
   "source": [
    "name = 'dwarf'\n",
    "for bukva in name:\n",
    "    if bukva in ['a','o','e','u','i']:\n",
    "        print(bukva.capitalize())\n",
    "    else:\n",
    "        print(bukva)"
   ]
  },
  {
   "cell_type": "markdown",
   "id": "3ca21af6",
   "metadata": {},
   "source": [
    "#### `range`\n",
    "\n",
    "`range(от какого числа : до какого числа : через сколько считать)` позволяет отсчитывать по нужному диапазону чисел, настраивается как срез. По умолчанию считает от 0, через 1. Варианты использования:\n",
    "- `range(10)` - от 0 до 9\n",
    "- `range(2:10)` - от 2 до 9\n",
    "- `range(2:10:2)` - от 2 до 9 через 2 (будет 2,4,6,8)\n",
    "- `range(0,-10,-1)` - от 0 до -9 через -1\n",
    "- `range(10,2,-2)` - от 10 до 3 через -2 (будет 10,8,6,4)\n",
    "- и т.д."
   ]
  },
  {
   "cell_type": "code",
   "execution_count": null,
   "id": "829fda74",
   "metadata": {},
   "outputs": [
    {
     "name": "stdout",
     "output_type": "stream",
     "text": [
      "0\n",
      "1\n",
      "2\n",
      "3\n",
      "4\n",
      "5\n",
      "6\n",
      "7\n",
      "8\n",
      "9\n"
     ]
    }
   ],
   "source": [
    "for i in range(10): # пробуйте\n",
    "    print(i)"
   ]
  },
  {
   "cell_type": "code",
   "execution_count": 37,
   "id": "2ceba585",
   "metadata": {},
   "outputs": [
    {
     "name": "stdout",
     "output_type": "stream",
     "text": [
      "20\n",
      "18\n",
      "16\n",
      "14\n",
      "12\n"
     ]
    }
   ],
   "source": [
    "for i in range(20, 10, -2):\n",
    "    print(i)"
   ]
  },
  {
   "cell_type": "code",
   "execution_count": 17,
   "id": "230da823",
   "metadata": {},
   "outputs": [
    {
     "name": "stdout",
     "output_type": "stream",
     "text": [
      "1952\n",
      "1956\n",
      "1960\n",
      "1964\n",
      "1968\n",
      "1972\n",
      "1976\n",
      "1980\n",
      "1984\n",
      "1988\n",
      "1992\n",
      "1996\n",
      "2000\n",
      "2004\n",
      "2008\n",
      "2012\n",
      "2016\n",
      "2020\n",
      "2024\n",
      "2028\n",
      "2032\n",
      "2036\n",
      "2040\n",
      "2044\n",
      "2048\n"
     ]
    }
   ],
   "source": [
    "# TODO вывести все високосные года от 1950 до 2050\n",
    "for i in range(1950, 2051):\n",
    "    if i%4 == 0:\n",
    "        print (i)"
   ]
  },
  {
   "cell_type": "markdown",
   "id": "bcb4c244",
   "metadata": {},
   "source": [
    "`_` используется для красоты, когда нам не нужна переменная, но мы должны что-то куда-то присвоить"
   ]
  },
  {
   "cell_type": "code",
   "execution_count": null,
   "id": "1c50bcde",
   "metadata": {},
   "outputs": [
    {
     "name": "stdout",
     "output_type": "stream",
     "text": [
      "*\n",
      "*\n",
      "*\n",
      "*\n",
      "*\n",
      "*\n",
      "*\n",
      "*\n",
      "*\n",
      "*\n"
     ]
    }
   ],
   "source": [
    "for _ in range(10): # лучше так чем плодить непонятные названия\n",
    "    print('*')"
   ]
  },
  {
   "cell_type": "markdown",
   "id": "aec729db",
   "metadata": {},
   "source": [
    "#### Итераторы\n",
    "\n",
    "Есть встроенные функции которые возвращают итератор - пока что представим это как коробку которая при каждом встряхивании выдаёт следующий элемент\n",
    "\n",
    "Используем `for` чтобы по этой коробке итерироваться - запрашивать каждый следующий элемент и что-то с ним делать (например выводить)\n",
    "\n",
    "- sorted() - сортирует коллекцию. Используйте `reverse` чтобы менять порядок сортировки\n",
    "- reversed() - итерируется по коллекции в обратном порядке"
   ]
  },
  {
   "cell_type": "code",
   "execution_count": 62,
   "id": "406d0709",
   "metadata": {},
   "outputs": [
    {
     "name": "stdout",
     "output_type": "stream",
     "text": [
      "-1\n",
      "1\n",
      "1\n",
      "3\n",
      "65\n"
     ]
    }
   ],
   "source": [
    "for el in sorted([1,3,65,1,-1]):\n",
    "    print(el)"
   ]
  },
  {
   "cell_type": "code",
   "execution_count": 40,
   "id": "1d9179d4",
   "metadata": {},
   "outputs": [
    {
     "name": "stdout",
     "output_type": "stream",
     "text": [
      "65\n",
      "3\n",
      "1\n",
      "1\n",
      "-1\n"
     ]
    }
   ],
   "source": [
    "for el in sorted([1,3,65,1,-1], reverse=True):\n",
    "    print(el)"
   ]
  },
  {
   "cell_type": "code",
   "execution_count": 41,
   "id": "e38696a0",
   "metadata": {},
   "outputs": [
    {
     "name": "stdout",
     "output_type": "stream",
     "text": [
      "-1\n",
      "1\n",
      "65\n",
      "3\n",
      "1\n"
     ]
    }
   ],
   "source": [
    "for el in reversed([1,3,65,1,-1]):\n",
    "    print(el)"
   ]
  },
  {
   "cell_type": "code",
   "execution_count": null,
   "id": "d9de2be2",
   "metadata": {},
   "outputs": [
    {
     "name": "stdout",
     "output_type": "stream",
     "text": [
      "-1\n",
      "1\n",
      "65\n",
      "3\n",
      "1\n"
     ]
    }
   ],
   "source": [
    "for el in [1,3,65,1,-1][::-1]: # можно то же самое сделать с помощью среза\n",
    "    print(el)"
   ]
  },
  {
   "cell_type": "code",
   "execution_count": null,
   "id": "6802f1ba",
   "metadata": {},
   "outputs": [
    {
     "name": "stdout",
     "output_type": "stream",
     "text": [
      "65\n",
      "3\n",
      "1\n",
      "1\n",
      "-1\n"
     ]
    }
   ],
   "source": [
    "for el in reversed(sorted([1,3,65,1,-1])): # поняли что происходит?\n",
    "    print(el)"
   ]
  },
  {
   "cell_type": "markdown",
   "id": "968e9ea8",
   "metadata": {},
   "source": [
    "Итератор можно превратить обратно в список"
   ]
  },
  {
   "cell_type": "code",
   "execution_count": 1,
   "id": "ba4331eb",
   "metadata": {},
   "outputs": [
    {
     "data": {
      "text/plain": [
       "[-1, 1, 65, 3, 1]"
      ]
     },
     "execution_count": 1,
     "metadata": {},
     "output_type": "execute_result"
    }
   ],
   "source": [
    "list(reversed([1,3,65,1,-1]))"
   ]
  },
  {
   "cell_type": "markdown",
   "id": "1c97008d",
   "metadata": {},
   "source": [
    "Можно итерироваться сразу по нескольким итераторам, это позволяют встроенные функции:\n",
    "- `enumerate` - пронумеровывает каждый элемент, выводит пары `номер, элемент`\n",
    "- `zip` - выводит параллельно элементы из нескольких коллекций"
   ]
  },
  {
   "cell_type": "code",
   "execution_count": null,
   "id": "638bcf16",
   "metadata": {},
   "outputs": [
    {
     "name": "stdout",
     "output_type": "stream",
     "text": [
      "индекс 0, элемент 1\n",
      "индекс 1, элемент 3\n",
      "индекс 2, элемент 65\n",
      "индекс 3, элемент 1\n",
      "индекс 4, элемент -1\n"
     ]
    }
   ],
   "source": [
    "for i, el in enumerate([1,3,65,1,-1]):\n",
    "    print(f\"индекс {i}, элемент {el}\") # обещал в конце приколы с print показать но не удержался"
   ]
  },
  {
   "cell_type": "code",
   "execution_count": 47,
   "id": "813d5d01",
   "metadata": {},
   "outputs": [
    {
     "name": "stdout",
     "output_type": "stream",
     "text": [
      "перс ork, хп 20\n",
      "перс elf, хп 10\n",
      "перс dwarf, хп 15\n"
     ]
    }
   ],
   "source": [
    "names_list = ['ork', 'elf', 'dwarf']\n",
    "hp_list = [20, 10, 15]\n",
    "\n",
    "for name, hp in zip(names_list, hp_list):\n",
    "    print(f\"перс {name}, хп {hp}\")"
   ]
  },
  {
   "cell_type": "markdown",
   "id": "b82c705b",
   "metadata": {},
   "source": [
    "Можно создать свою коллекцию по которой можно будет так итерироваться"
   ]
  },
  {
   "cell_type": "code",
   "execution_count": 63,
   "id": "e299d83f",
   "metadata": {},
   "outputs": [
    {
     "name": "stdout",
     "output_type": "stream",
     "text": [
      "a:1, b:2\n",
      "a:2, b:3\n",
      "a:3, b:4\n"
     ]
    }
   ],
   "source": [
    "for a, b in [[1,2], [2,3], [3,4]]:\n",
    "    print(f\"a:{a}, b:{b}\")"
   ]
  },
  {
   "cell_type": "markdown",
   "id": "fabdf37b",
   "metadata": {},
   "source": [
    "Метод словаря `items` как раз выводит парами `ключ, значение`, через них удобно итерироваться"
   ]
  },
  {
   "cell_type": "code",
   "execution_count": 46,
   "id": "2171b14c",
   "metadata": {},
   "outputs": [
    {
     "name": "stdout",
     "output_type": "stream",
     "text": [
      "индекс key, элемент value\n",
      "индекс 3, элемент 123123\n",
      "индекс some_list, элемент [1, 2, 3, 'adfadf', None, 5]\n"
     ]
    }
   ],
   "source": [
    "for key, value in my_dict.items():\n",
    "    print(f\"индекс {key}, элемент {value}\")"
   ]
  },
  {
   "cell_type": "markdown",
   "id": "feaab663",
   "metadata": {},
   "source": [
    "#### Вложенные циклы\n",
    "\n",
    "- Внутренний цикл выполняется полностью для каждой итерации внешнего цикла\n",
    "- Такой подход полезен для работы с двумерными структурами данных и многомерными переборами"
   ]
  },
  {
   "cell_type": "code",
   "execution_count": 64,
   "id": "673b8cab",
   "metadata": {},
   "outputs": [
    {
     "name": "stdout",
     "output_type": "stream",
     "text": [
      "********************\n",
      "********************\n",
      "********************\n",
      "********************\n",
      "********************\n",
      "********************\n",
      "********************\n",
      "********************\n",
      "********************\n",
      "********************\n"
     ]
    }
   ],
   "source": [
    "for y in range(10):\n",
    "    for x in range(20):\n",
    "        print('*', end='') # выводим звёздочку, не отступая строку\n",
    "    print() # просто отступаем строку"
   ]
  },
  {
   "cell_type": "code",
   "execution_count": 65,
   "id": "0669f629",
   "metadata": {},
   "outputs": [
    {
     "data": {
      "text/plain": [
       "[[1, 2, 3, 4], [1, 2, 3, 4], [1, 2, 3, 4], [1, 2, 3, 4]]"
      ]
     },
     "execution_count": 65,
     "metadata": {},
     "output_type": "execute_result"
    }
   ],
   "source": [
    "arr_2d = [\n",
    "    [1,2,3,4],\n",
    "    [1,2,3,4],\n",
    "    [1,2,3,4],\n",
    "    [1,2,3,4],\n",
    "]\n",
    "\n",
    "arr_2d"
   ]
  },
  {
   "cell_type": "code",
   "execution_count": 71,
   "id": "636088e4",
   "metadata": {},
   "outputs": [
    {
     "name": "stdout",
     "output_type": "stream",
     "text": [
      "[1, 2, 3, 4]\n",
      "[1, 2, 3, 4]\n",
      "[1, 2, 3, 4]\n",
      "[1, 2, 3, 4]\n"
     ]
    }
   ],
   "source": [
    "for row in arr_2d:\n",
    "    print(row)"
   ]
  },
  {
   "cell_type": "code",
   "execution_count": 67,
   "id": "0460f8a5",
   "metadata": {},
   "outputs": [
    {
     "name": "stdout",
     "output_type": "stream",
     "text": [
      "1 2 3 4 \n",
      "1 2 3 4 \n",
      "1 2 3 4 \n",
      "1 2 3 4 \n"
     ]
    }
   ],
   "source": [
    "for row in arr_2d:\n",
    "    for cell in row:\n",
    "        print(cell, end=' ')\n",
    "    print()"
   ]
  },
  {
   "cell_type": "markdown",
   "id": "e8e94df8",
   "metadata": {},
   "source": [
    "#### `while`\n",
    "\n",
    "`while условие:`\n",
    "- `действия`\n",
    "\n",
    "Цикл с условием (пока условие истинно): повторяет блок кода так долго, как условие верно\n",
    "\n",
    "Более естественен, когда количество повторений заранее неизвестно и зависит от динамики программы или внешних условий"
   ]
  },
  {
   "cell_type": "code",
   "execution_count": 69,
   "id": "5fb67e31",
   "metadata": {},
   "outputs": [
    {
     "name": "stdout",
     "output_type": "stream",
     "text": [
      "100\n",
      "90\n",
      "80\n",
      "70\n",
      "60\n",
      "50\n",
      "40\n",
      "30\n",
      "20\n",
      "10\n"
     ]
    }
   ],
   "source": [
    "character_health = 100\n",
    "\n",
    "while character_health > 0:\n",
    "    print(character_health)\n",
    "    character_health -= 10"
   ]
  },
  {
   "cell_type": "markdown",
   "id": "8465e787",
   "metadata": {},
   "source": [
    "Классический цикл на заданное количество повторений"
   ]
  },
  {
   "cell_type": "code",
   "execution_count": 70,
   "id": "1c7123e1",
   "metadata": {},
   "outputs": [
    {
     "name": "stdout",
     "output_type": "stream",
     "text": [
      "0\n",
      "1\n",
      "2\n",
      "3\n",
      "4\n",
      "5\n",
      "6\n",
      "7\n",
      "8\n",
      "9\n"
     ]
    }
   ],
   "source": [
    "i = 0\n",
    "\n",
    "while i < 10:\n",
    "    print(i)\n",
    "    i += 1"
   ]
  },
  {
   "cell_type": "markdown",
   "id": "1f6396e8",
   "metadata": {},
   "source": [
    "Такой вариант лучше, потому что количество повторений можно заранее обработать и пихнуть в переменную, а не вставлять в условие цикла\n",
    "\n",
    "Но на самом деле, цикл с заданным количеством повторений всегда делают через `for`, и вообще всегда в python используйте `for` за исключением случаев когда количество повторений неопределённое и нет никаких данных по которым вы итерируетесь"
   ]
  },
  {
   "cell_type": "code",
   "execution_count": 2,
   "id": "267fc695",
   "metadata": {},
   "outputs": [
    {
     "name": "stdout",
     "output_type": "stream",
     "text": [
      "10\n",
      "9\n",
      "8\n",
      "7\n",
      "6\n",
      "5\n",
      "4\n",
      "3\n",
      "2\n",
      "1\n"
     ]
    }
   ],
   "source": [
    "i = 10\n",
    "\n",
    "while i > 0:\n",
    "    print(i)\n",
    "    i -= 1"
   ]
  },
  {
   "cell_type": "markdown",
   "id": "f8c0ed6b",
   "metadata": {},
   "source": [
    "#### `break` и `continue`\n",
    "\n",
    "- `break` — немедленно останавливает выполнение цикла и переходит к коду сразу после цикла\n",
    "- `continue` — пропускает текущую итерацию и переходит к следующей проверке условия или следующей итерации"
   ]
  },
  {
   "cell_type": "code",
   "execution_count": null,
   "id": "0d642724",
   "metadata": {},
   "outputs": [
    {
     "name": "stdout",
     "output_type": "stream",
     "text": [
      "0\n",
      "1\n",
      "2\n",
      "3\n",
      "4\n",
      "5\n",
      "6\n",
      "7\n",
      "8\n",
      "9\n",
      "10\n"
     ]
    }
   ],
   "source": [
    "i = 0\n",
    "\n",
    "while True:\n",
    "    \n",
    "    print(i)\n",
    "    i += 1\n",
    "\n",
    "    if i > 10:\n",
    "        break"
   ]
  },
  {
   "cell_type": "code",
   "execution_count": 74,
   "id": "50c20221",
   "metadata": {},
   "outputs": [
    {
     "name": "stdout",
     "output_type": "stream",
     "text": [
      "2\n",
      "4\n",
      "6\n",
      "8\n",
      "10\n"
     ]
    }
   ],
   "source": [
    "i = 0\n",
    "\n",
    "while i < 10:\n",
    "    i += 1\n",
    "    if i%2!=0:\n",
    "        continue\n",
    "    print(i)"
   ]
  },
  {
   "cell_type": "code",
   "execution_count": 6,
   "id": "6852467a",
   "metadata": {},
   "outputs": [
    {
     "name": "stdout",
     "output_type": "stream",
     "text": [
      "тут нет подозрительных типов\n",
      "тут нет подозрительных типов\n",
      "тут нет подозрительных типов\n",
      "тут нет подозрительных типов\n",
      "вызывай омон, я нашёл его!\n"
     ]
    }
   ],
   "source": [
    "for ele in some_list:\n",
    "    if ele is None:\n",
    "        print(\"вызывай омон, я нашёл его!\")\n",
    "        break\n",
    "    else:\n",
    "        print(\"тут нет подозрительных типов\")"
   ]
  },
  {
   "cell_type": "markdown",
   "id": "c6f8d6e9",
   "metadata": {},
   "source": [
    "### Функции"
   ]
  },
  {
   "cell_type": "markdown",
   "id": "b89213d7",
   "metadata": {},
   "source": [
    "Из школьной математики вы можете помнить функции такого вида `f(x) = 2*x + 4`\n",
    "\n",
    "В которую потом можно подставить аргумент и найти её значение `f(3) = 10`\n",
    "\n",
    "Здесь функции работают похожим образом"
   ]
  },
  {
   "cell_type": "code",
   "execution_count": 8,
   "id": "1d09726e",
   "metadata": {},
   "outputs": [],
   "source": [
    "def function_name(x):\n",
    "    print(2*x + 4)"
   ]
  },
  {
   "cell_type": "code",
   "execution_count": 9,
   "id": "35bb81b6",
   "metadata": {},
   "outputs": [
    {
     "name": "stdout",
     "output_type": "stream",
     "text": [
      "10\n"
     ]
    }
   ],
   "source": [
    "function_name(3)"
   ]
  },
  {
   "cell_type": "markdown",
   "id": "c9db62bc",
   "metadata": {},
   "source": [
    "Функция\n",
    "\n",
    "- Это блок кода, который описывается после `def имя_функции(аргументы):`\n",
    "- Вызывается по имени таким образом: `имя_функции(аргументы)`\n",
    "- Может принимать входные данные (аргументы)\n",
    "- Может возвращать значение\n",
    "- Очень полезна чтобы переиспользовать уже написанный код, не писать его несколько раз"
   ]
  },
  {
   "cell_type": "code",
   "execution_count": 15,
   "id": "874cf71c",
   "metadata": {},
   "outputs": [],
   "source": [
    "def greeting(name):\n",
    "    \"\"\"Возвращает приветствие для имени.\n",
    "    Кстати вот так очень удобно писать документацию для функции\n",
    "    \"\"\"\n",
    "    print(f\"Привет, {name}!\")"
   ]
  },
  {
   "cell_type": "code",
   "execution_count": null,
   "id": "6d08994a",
   "metadata": {},
   "outputs": [
    {
     "name": "stdout",
     "output_type": "stream",
     "text": [
      "Привет, Greg!\n"
     ]
    }
   ],
   "source": [
    "greeting('Greg') # наведи курсор на greeting"
   ]
  },
  {
   "cell_type": "markdown",
   "id": "b26143db",
   "metadata": {},
   "source": [
    "#### Аргументы\n",
    "\n",
    "- Функция может принимать несколько аргументов, перечисляются через запятую\n",
    "- Можно явно передать аргументы, прописав в вызове `имя_функции(имя_аргумента = значение_аргумента)`\n",
    "- По умолчанию аргументы позиционные, то есть их нужно прописать при вызове в том же порядке что при объявлении\n",
    "- Можно указать типы аргументов через двоеточие: `def имя_функции(имя_аргумента:тип_аргумента, ...):`\n",
    "- Можно задать параметры по умолчанию, и тогда если их не передать при вызове, примутся эти значения"
   ]
  },
  {
   "cell_type": "code",
   "execution_count": 18,
   "id": "c38e38db",
   "metadata": {},
   "outputs": [],
   "source": [
    "def function_name_shrek(x, y):\n",
    "    print(2*x + 4)"
   ]
  },
  {
   "cell_type": "code",
   "execution_count": null,
   "id": "dfccd90f",
   "metadata": {},
   "outputs": [
    {
     "name": "stdout",
     "output_type": "stream",
     "text": [
      "10\n"
     ]
    }
   ],
   "source": [
    "function_name_shrek(3, 12) # 3 передалось в x, 12 передалось в y"
   ]
  },
  {
   "cell_type": "code",
   "execution_count": 24,
   "id": "a5ad6fb3",
   "metadata": {},
   "outputs": [
    {
     "name": "stdout",
     "output_type": "stream",
     "text": [
      "28\n"
     ]
    }
   ],
   "source": [
    "function_name_shrek(12, 3) # 12 передалось в x, 3 передалось в y"
   ]
  },
  {
   "cell_type": "code",
   "execution_count": 25,
   "id": "22b4da0e",
   "metadata": {},
   "outputs": [
    {
     "name": "stdout",
     "output_type": "stream",
     "text": [
      "10\n"
     ]
    }
   ],
   "source": [
    "# пропишем аргументы по их именам, явно указав что куда передать\n",
    "function_name_shrek(y=12, x=3) # 3 передалось в x, 12 передалось в y"
   ]
  },
  {
   "cell_type": "code",
   "execution_count": 4,
   "id": "6de4da2a",
   "metadata": {},
   "outputs": [
    {
     "ename": "SyntaxError",
     "evalue": "positional argument follows keyword argument (3356811553.py, line 2)",
     "output_type": "error",
     "traceback": [
      "  \u001b[36mCell\u001b[39m\u001b[36m \u001b[39m\u001b[32mIn[4]\u001b[39m\u001b[32m, line 2\u001b[39m\n\u001b[31m    \u001b[39m\u001b[31mfunction_name_shrek(y=12, x) # так нельзя\u001b[39m\n                               ^\n\u001b[31mSyntaxError\u001b[39m\u001b[31m:\u001b[39m positional argument follows keyword argument\n"
     ]
    }
   ],
   "source": [
    "# сначала передаются позиционные аргументы, потом по имени\n",
    "function_name_shrek(y=12, x) # так нельзя"
   ]
  },
  {
   "cell_type": "code",
   "execution_count": 3,
   "id": "8786cfa4",
   "metadata": {},
   "outputs": [
    {
     "name": "stdout",
     "output_type": "stream",
     "text": [
      "4.0\n"
     ]
    }
   ],
   "source": [
    "# пропишем ожидаемые типы аргументов\n",
    "# мы всё равно можем передать туда неправильные типы и всё отработает\n",
    "# это для удобства дальнейшей работы и других программистов\n",
    "# в настройку VScode можно включить подсветку неправильных типов\n",
    "\n",
    "def vozvedenie_v_stepen(x:int, stepen:float):\n",
    "    print(x**stepen)\n",
    "\n",
    "vozvedenie_v_stepen(2.0, 2) # наводя курсор, увидите ожидаемые типы"
   ]
  },
  {
   "cell_type": "code",
   "execution_count": 9,
   "id": "0ac03280",
   "metadata": {},
   "outputs": [
    {
     "name": "stdout",
     "output_type": "stream",
     "text": [
      "10\n"
     ]
    }
   ],
   "source": [
    "# зададим параметры по умолчанию, тогда если мы их не передали, они примут эти значения\n",
    "def function_name(x:int, kek:str, a=None, b=1):\n",
    "    print(2*x + 4)\n",
    "\n",
    "function_name(3, 'передаём только два аргумента')"
   ]
  },
  {
   "cell_type": "code",
   "execution_count": 11,
   "id": "ed5ec9e1",
   "metadata": {},
   "outputs": [
    {
     "name": "stdout",
     "output_type": "stream",
     "text": [
      "hello\n",
      "привет\n"
     ]
    }
   ],
   "source": [
    "def print_hello(stroka:str = 'hello'):\n",
    "    print(stroka)\n",
    "\n",
    "print_hello() # stroka стала по умолчанию равна hello\n",
    "print_hello('привет') # stroka приняла наш аргумент"
   ]
  },
  {
   "cell_type": "markdown",
   "id": "0a740c99",
   "metadata": {},
   "source": [
    "#### `return`\n",
    "\n",
    "- Возвращаемое значение — это результат выполнения функции, который можно использовать дальше в программе\n",
    "- Оператор `return` возвращает значение и завершает функцию\n",
    "- Чем отличается `return` от `print`: `return` передаёт результат функции дальше по коду, `print` просто выводит текст\n",
    "- Можно прописать тип возвращаемое значение через стрелочку перед двоеточием `def функция(...)->тип_возвращаемого_значения:`"
   ]
  },
  {
   "cell_type": "code",
   "execution_count": 14,
   "id": "8a5e9ec0",
   "metadata": {},
   "outputs": [
    {
     "name": "stdout",
     "output_type": "stream",
     "text": [
      "8\n"
     ]
    }
   ],
   "source": [
    "def vozvedenie_v_stepen(x:int, stepen:float):\n",
    "    print(x**stepen)\n",
    "\n",
    "num = vozvedenie_v_stepen(2,3)"
   ]
  },
  {
   "cell_type": "code",
   "execution_count": 16,
   "id": "fc6829c1",
   "metadata": {},
   "outputs": [],
   "source": [
    "num # здесь ничего нет, потому что функция ничего не вернула"
   ]
  },
  {
   "cell_type": "code",
   "execution_count": 17,
   "id": "3357e849",
   "metadata": {},
   "outputs": [
    {
     "data": {
      "text/plain": [
       "NoneType"
      ]
     },
     "execution_count": 17,
     "metadata": {},
     "output_type": "execute_result"
    }
   ],
   "source": [
    "type(num)"
   ]
  },
  {
   "cell_type": "code",
   "execution_count": null,
   "id": "bea6ece2",
   "metadata": {},
   "outputs": [],
   "source": [
    "def func_return(x:int = 0)->float:\n",
    "    return 2*x + 4\n",
    "\n",
    "num = func_return(3) # num = 10\n",
    "# ничего не вывелось, у нас нет print"
   ]
  },
  {
   "cell_type": "code",
   "execution_count": null,
   "id": "afbc34e8",
   "metadata": {},
   "outputs": [
    {
     "data": {
      "text/plain": [
       "10"
      ]
     },
     "execution_count": 19,
     "metadata": {},
     "output_type": "execute_result"
    }
   ],
   "source": [
    "num # сюда сохранился результат отработки той функции"
   ]
  },
  {
   "cell_type": "code",
   "execution_count": null,
   "id": "22dce7ab",
   "metadata": {},
   "outputs": [
    {
     "data": {
      "text/plain": [
       "'ноль или отрицательное'"
      ]
     },
     "execution_count": 22,
     "metadata": {},
     "output_type": "execute_result"
    }
   ],
   "source": [
    "def проверить_число(x):\n",
    "    \"\"\"магия, всё это время можно было называть кириллицей\"\"\"\n",
    "    \n",
    "    if x <= 0:\n",
    "        # если этот return сработает, функция завершится\n",
    "        return \"ноль или отрицательное\"\n",
    "    \n",
    "    # до сюда исполнение дойдёт только если условие в if не выполнится\n",
    "    return \"положительное\"\n",
    "\n",
    "check = проверить_число(-5)\n",
    "check"
   ]
  },
  {
   "cell_type": "markdown",
   "id": "361c5c4c",
   "metadata": {},
   "source": [
    "- `return` не обязательно должен быть последней строкой в функции, можно вернуть значение на любом этапе\n",
    "- Может быть несколько `return`\n",
    "- Если внутри функции не выполнен ни один `return`, функция возвращает None\n",
    "- Используйте `return` вместо `print`, если хотите передать значение дальше по коду\n",
    "- Старайтесь делать аннотации типов"
   ]
  },
  {
   "cell_type": "markdown",
   "id": "9af28e33",
   "metadata": {},
   "source": [
    "Рассмотрим пример функции, которая принимает переменную, меняет значение и возвращает изменённое\n",
    "\n",
    "Значение в исходной переменной не изменилось, потому что в момент захода в функцию, создаётся новая локальная переменная `x`, которая принимает значение `counter`, выполняется `x=counter`, и значение `x` становится 3\n",
    "\n",
    "Далее локальная переменная `x` меняется, возвращается и удаляется, `counter` никак не затрагивается функцией"
   ]
  },
  {
   "cell_type": "code",
   "execution_count": 26,
   "id": "390108cb",
   "metadata": {},
   "outputs": [],
   "source": [
    "def increment(x:int)->int:\n",
    "    x = x + 1\n",
    "    return x"
   ]
  },
  {
   "cell_type": "code",
   "execution_count": 24,
   "id": "0ddcb652",
   "metadata": {},
   "outputs": [
    {
     "data": {
      "text/plain": [
       "4"
      ]
     },
     "execution_count": 24,
     "metadata": {},
     "output_type": "execute_result"
    }
   ],
   "source": [
    "counter = 3\n",
    "\n",
    "increment(counter)"
   ]
  },
  {
   "cell_type": "markdown",
   "id": "ff5bc28a",
   "metadata": {},
   "source": [
    "Исходное значение не поменялось"
   ]
  },
  {
   "cell_type": "code",
   "execution_count": 25,
   "id": "9981823b",
   "metadata": {},
   "outputs": [
    {
     "data": {
      "text/plain": [
       "3"
      ]
     },
     "execution_count": 25,
     "metadata": {},
     "output_type": "execute_result"
    }
   ],
   "source": [
    "counter"
   ]
  },
  {
   "cell_type": "markdown",
   "id": "6dac270a",
   "metadata": {},
   "source": [
    "Для того, чтобы модифицировать значение `counter`, нам нужно сохранить результат функции в ней"
   ]
  },
  {
   "cell_type": "code",
   "execution_count": 27,
   "id": "1dff8d2c",
   "metadata": {},
   "outputs": [
    {
     "data": {
      "text/plain": [
       "4"
      ]
     },
     "execution_count": 27,
     "metadata": {},
     "output_type": "execute_result"
    }
   ],
   "source": [
    "counter = increment(counter)\n",
    "counter"
   ]
  },
  {
   "cell_type": "markdown",
   "id": "a6a2ed1f",
   "metadata": {},
   "source": [
    "С объектами, такими как коллекции, всё работает иначе"
   ]
  },
  {
   "cell_type": "code",
   "execution_count": 40,
   "id": "cc67b57a",
   "metadata": {},
   "outputs": [],
   "source": [
    "def add_element(mylist:list)->list:\n",
    "\n",
    "    mylist.append(len(mylist))"
   ]
  },
  {
   "cell_type": "code",
   "execution_count": 41,
   "id": "7fcd3ac9",
   "metadata": {},
   "outputs": [
    {
     "data": {
      "text/plain": [
       "[1, 2, 3, 'adfadf', None, 5]"
      ]
     },
     "execution_count": 41,
     "metadata": {},
     "output_type": "execute_result"
    }
   ],
   "source": [
    "some_list"
   ]
  },
  {
   "cell_type": "code",
   "execution_count": 42,
   "id": "8e456c2e",
   "metadata": {},
   "outputs": [],
   "source": [
    "add_element(some_list)"
   ]
  },
  {
   "cell_type": "code",
   "execution_count": 43,
   "id": "0e63cebd",
   "metadata": {},
   "outputs": [
    {
     "data": {
      "text/plain": [
       "[1, 2, 3, 'adfadf', None, 5, 6]"
      ]
     },
     "execution_count": 43,
     "metadata": {},
     "output_type": "execute_result"
    }
   ],
   "source": [
    "some_list"
   ]
  },
  {
   "cell_type": "markdown",
   "id": "821c170f",
   "metadata": {},
   "source": [
    "Что произошло?\n",
    "- `some_list` хранит указатель на список, а не сам список\n",
    "- при вызове `add_element` он передал этот указатель в `mylist`\n",
    "- функция изменила список, хранящийся по указателю в `mylist`\n",
    "- `some_list` указывает на этот же список, который поменялся\n",
    "\n",
    "Другой паттерн - писать функции чтобы они не модифицировали исходные данные, а возвращали изменённую копию"
   ]
  },
  {
   "cell_type": "code",
   "execution_count": null,
   "id": "ad3e203f",
   "metadata": {},
   "outputs": [],
   "source": [
    "def add_element_no_modification(mylist:list)->list:\n",
    "\n",
    "    new_list = mylist + [len(mylist)] # сложим со списком из одного элемента\n",
    "    # сложение списков (конкатенация) создаёт копию, а не модифицирует исходный\n",
    "    return new_list"
   ]
  },
  {
   "cell_type": "code",
   "execution_count": 44,
   "id": "994b7787",
   "metadata": {},
   "outputs": [
    {
     "data": {
      "text/plain": [
       "[1, 2, 3, 'adfadf', None, 5, 6, 7]"
      ]
     },
     "execution_count": 44,
     "metadata": {},
     "output_type": "execute_result"
    }
   ],
   "source": [
    "another_list = add_element_no_modification(some_list)\n",
    "another_list"
   ]
  },
  {
   "cell_type": "code",
   "execution_count": null,
   "id": "ec6d8201",
   "metadata": {},
   "outputs": [
    {
     "data": {
      "text/plain": [
       "[1, 2, 3, 'adfadf', None, 5, 6]"
      ]
     },
     "execution_count": 45,
     "metadata": {},
     "output_type": "execute_result"
    }
   ],
   "source": [
    "some_list # исходный не изменился"
   ]
  },
  {
   "cell_type": "markdown",
   "id": "46427a04",
   "metadata": {},
   "source": [
    "Мы можем сами контролировать когда хотим изменить исходный, записывая в него значение из функции"
   ]
  },
  {
   "cell_type": "code",
   "execution_count": 46,
   "id": "5090e429",
   "metadata": {},
   "outputs": [
    {
     "data": {
      "text/plain": [
       "[1, 2, 3, 'adfadf', None, 5, 6, 7]"
      ]
     },
     "execution_count": 46,
     "metadata": {},
     "output_type": "execute_result"
    }
   ],
   "source": [
    "some_list = add_element_no_modification(some_list)\n",
    "some_list"
   ]
  },
  {
   "cell_type": "markdown",
   "id": "7a25fd7b",
   "metadata": {},
   "source": [
    "### Области видимости\n",
    "\n",
    "Python ищет имя где объявлено что-то в таком порядке (LEGB):\n",
    "- Local (локальная) — внутри текущей функции\n",
    "- Enclosing - с двумя скобками, вложенная функция внутри другой функции, это рассматривать не будем\n",
    "- Global (глобальная) — на уровне всей программы или модуля\n",
    "- Built-in (встроенные имена) — то что по умолчанию объявлено, если мы их не перезаписали\n",
    "\n",
    "Важно: поиск — только для чтения переменной"
   ]
  },
  {
   "cell_type": "code",
   "execution_count": 48,
   "id": "4ab3da68",
   "metadata": {},
   "outputs": [
    {
     "data": {
      "text/plain": [
       "'локальная'"
      ]
     },
     "execution_count": 48,
     "metadata": {},
     "output_type": "execute_result"
    }
   ],
   "source": [
    "x = \"глобальная\"\n",
    "\n",
    "def func():\n",
    "    x = \"локальная\" # доступна локальная, поэтому берём её\n",
    "    return x\n",
    "\n",
    "func()"
   ]
  },
  {
   "cell_type": "code",
   "execution_count": 49,
   "id": "895b55df",
   "metadata": {},
   "outputs": [
    {
     "data": {
      "text/plain": [
       "'глобальная'"
      ]
     },
     "execution_count": 49,
     "metadata": {},
     "output_type": "execute_result"
    }
   ],
   "source": [
    "x # в момент завершения функции, локальная переменная удаляется, глобальная не изменилась"
   ]
  },
  {
   "cell_type": "code",
   "execution_count": null,
   "id": "1f6264a5",
   "metadata": {},
   "outputs": [
    {
     "data": {
      "text/plain": [
       "15"
      ]
     },
     "execution_count": 52,
     "metadata": {},
     "output_type": "execute_result"
    }
   ],
   "source": [
    "y = 10\n",
    "\n",
    "def get_global_y():\n",
    "    return y + 5 # локальной нет, берём глобальную\n",
    "\n",
    "get_global_y()"
   ]
  },
  {
   "cell_type": "code",
   "execution_count": null,
   "id": "0891cfe5",
   "metadata": {},
   "outputs": [
    {
     "ename": "UnboundLocalError",
     "evalue": "cannot access local variable 'y' where it is not associated with a value",
     "output_type": "error",
     "traceback": [
      "\u001b[31m---------------------------------------------------------------------------\u001b[39m",
      "\u001b[31mUnboundLocalError\u001b[39m                         Traceback (most recent call last)",
      "\u001b[36mCell\u001b[39m\u001b[36m \u001b[39m\u001b[32mIn[53]\u001b[39m\u001b[32m, line 6\u001b[39m\n\u001b[32m      3\u001b[39m \u001b[38;5;28;01mdef\u001b[39;00m\u001b[38;5;250m \u001b[39m\u001b[34mизменить_global\u001b[39m():\n\u001b[32m      4\u001b[39m     y += \u001b[32m5\u001b[39m\n\u001b[32m----> \u001b[39m\u001b[32m6\u001b[39m \u001b[43mизменить_global\u001b[49m\u001b[43m(\u001b[49m\u001b[43m)\u001b[49m\n",
      "\u001b[36mCell\u001b[39m\u001b[36m \u001b[39m\u001b[32mIn[53]\u001b[39m\u001b[32m, line 4\u001b[39m, in \u001b[36mизменить_global\u001b[39m\u001b[34m()\u001b[39m\n\u001b[32m      3\u001b[39m \u001b[38;5;28;01mdef\u001b[39;00m\u001b[38;5;250m \u001b[39m\u001b[34mизменить_global\u001b[39m():\n\u001b[32m----> \u001b[39m\u001b[32m4\u001b[39m     \u001b[43my\u001b[49m += \u001b[32m5\u001b[39m\n",
      "\u001b[31mUnboundLocalError\u001b[39m: cannot access local variable 'y' where it is not associated with a value"
     ]
    }
   ],
   "source": [
    "y = 10\n",
    "\n",
    "def изменить_global():\n",
    "    # переменная y для этой функции находится во внешней области видимости\n",
    "    # нельзя менять значения во внешней области видимости\n",
    "    y += 5 \n",
    "\n",
    "изменить_global()"
   ]
  },
  {
   "cell_type": "markdown",
   "id": "6e702fd2",
   "metadata": {},
   "source": [
    "Существует способ изменить значение во внешней области видимости, для этого быдлокодеры применяют `global`\n",
    "\n",
    "> ***Код в ячейке ниже только для ознакомительных целей, увижу `global` - ставлю за проект 2***"
   ]
  },
  {
   "cell_type": "code",
   "execution_count": 54,
   "id": "97476775",
   "metadata": {},
   "outputs": [
    {
     "name": "stdout",
     "output_type": "stream",
     "text": [
      "15\n",
      "15\n"
     ]
    }
   ],
   "source": [
    "y = 10\n",
    "\n",
    "def изменить_global():\n",
    "    global y # ужас\n",
    "    y += 5\n",
    "    return y\n",
    "\n",
    "print(изменить_global())  # 15\n",
    "print(y)                   # 15"
   ]
  },
  {
   "cell_type": "markdown",
   "id": "47b98928",
   "metadata": {},
   "source": [
    "Если надо передать глобальную переменную в функцию, добавьте её как аргумент и передайте её явно"
   ]
  },
  {
   "cell_type": "code",
   "execution_count": 56,
   "id": "212e6b67",
   "metadata": {},
   "outputs": [
    {
     "data": {
      "text/plain": [
       "8"
      ]
     },
     "execution_count": 56,
     "metadata": {},
     "output_type": "execute_result"
    }
   ],
   "source": [
    "power = 3\n",
    "\n",
    "def func_2(x, power):\n",
    "    x = x ** power\n",
    "    return x\n",
    "\n",
    "func_2(2, power=power)"
   ]
  },
  {
   "cell_type": "markdown",
   "id": "6d70af54",
   "metadata": {},
   "source": [
    "Built-in, встроенные имена, мы уже использовали\n",
    "\n",
    "Это всё, что доступно сходу, и не требует объявления\n",
    "\n",
    "Их можно переопределить, поэтому следите чтобы случайно не назвать переменную словом которое вам подсвечивает IDE"
   ]
  },
  {
   "cell_type": "code",
   "execution_count": 57,
   "id": "dfbeebb1",
   "metadata": {},
   "outputs": [
    {
     "data": {
      "text/plain": [
       "4"
      ]
     },
     "execution_count": 57,
     "metadata": {},
     "output_type": "execute_result"
    }
   ],
   "source": [
    "int('4') # встроенный тип данных"
   ]
  },
  {
   "cell_type": "code",
   "execution_count": 59,
   "id": "4971bf90",
   "metadata": {},
   "outputs": [
    {
     "data": {
      "text/plain": [
       "5"
      ]
     },
     "execution_count": 59,
     "metadata": {},
     "output_type": "execute_result"
    }
   ],
   "source": [
    "def int(something):\n",
    "    return something + 2\n",
    "\n",
    "int(3) # теперь int это какая-то наша функция"
   ]
  },
  {
   "cell_type": "code",
   "execution_count": 62,
   "id": "4939c99a",
   "metadata": {},
   "outputs": [
    {
     "data": {
      "text/plain": [
       "7.2"
      ]
     },
     "execution_count": 62,
     "metadata": {},
     "output_type": "execute_result"
    }
   ],
   "source": [
    "int = 4 + 3.2\n",
    "int # а теперь дробь"
   ]
  },
  {
   "cell_type": "markdown",
   "id": "4651d065",
   "metadata": {},
   "source": [
    "### Десерт\n",
    "\n",
    "Напоследок будем оставлять всякие приколы, простые но интересные штучки"
   ]
  },
  {
   "cell_type": "markdown",
   "id": "cab2369b",
   "metadata": {},
   "source": [
    "#### `print`\n",
    "\n",
    "Самое время разобрать `print(\"Hello world\")`\n",
    "\n",
    "Можно закинуть через запятую аргументы, тогда они выведутся подряд"
   ]
  },
  {
   "cell_type": "code",
   "execution_count": 37,
   "id": "54bd9231",
   "metadata": {},
   "outputs": [
    {
     "name": "stdout",
     "output_type": "stream",
     "text": [
      "Hello world\n"
     ]
    }
   ],
   "source": [
    "print(\"Hello\", \"world\")"
   ]
  },
  {
   "cell_type": "markdown",
   "id": "0ed869ea",
   "metadata": {},
   "source": [
    "То что ставится в конце строки определяется аргументом `end` который по умолчанию равен `\"\\n\"`, что означает перенос строки\n",
    "\n",
    "Давайте сделаем вывод через точку с запятой"
   ]
  },
  {
   "cell_type": "code",
   "execution_count": 39,
   "id": "0b1c52a6",
   "metadata": {},
   "outputs": [
    {
     "name": "stdout",
     "output_type": "stream",
     "text": [
      "Hello world; Hello volk; "
     ]
    }
   ],
   "source": [
    "print(\"Hello\", \"world\", end='; ')\n",
    "print(\"Hello\", \"volk\", end='; ')"
   ]
  },
  {
   "cell_type": "markdown",
   "id": "a5c825d9",
   "metadata": {},
   "source": [
    "Что вставляется между кусочками строки когда их несколько, задаётся аргументом `sep`, по умолчанию это пробел"
   ]
  },
  {
   "cell_type": "code",
   "execution_count": 32,
   "id": "85606e93",
   "metadata": {},
   "outputs": [],
   "source": [
    "name = 'grisha'\n",
    "greeting = 'hello'"
   ]
  },
  {
   "cell_type": "code",
   "execution_count": 33,
   "id": "faf2acbf",
   "metadata": {},
   "outputs": [
    {
     "name": "stdout",
     "output_type": "stream",
     "text": [
      "hello, grisha\n"
     ]
    }
   ],
   "source": [
    "print(greeting, name, sep=', ')"
   ]
  },
  {
   "cell_type": "markdown",
   "id": "2d8a0923",
   "metadata": {},
   "source": [
    "Но так не совсем удобно, используйте fstring - конструкция когда перед кавычками ставится f, и в фигурных скобках внутри можно написать любой код\n",
    "\n",
    "`print(f\"текст текст текст {код который выполнится} текст текст\")`\n",
    "\n",
    "В примере ниже мы делаем три вставки, в которые подставляем переменные и вычисляем выражение"
   ]
  },
  {
   "cell_type": "code",
   "execution_count": 40,
   "id": "92e9dcd7",
   "metadata": {},
   "outputs": [
    {
     "name": "stdout",
     "output_type": "stream",
     "text": [
      "hello, grisha, температура на улице 20\n"
     ]
    }
   ],
   "source": [
    "print(f\"{greeting}, {name}, температура на улице {int(900/45)}\")"
   ]
  },
  {
   "cell_type": "markdown",
   "id": "560bd04a",
   "metadata": {},
   "source": [
    "Многострочную строку тоже можно подать в `print`, и делать в неё вставки"
   ]
  },
  {
   "cell_type": "code",
   "execution_count": 18,
   "id": "f6147d39",
   "metadata": {},
   "outputs": [
    {
     "name": "stdout",
     "output_type": "stream",
     "text": [
      "\n",
      "========================================\n",
      "красивый многострочный вывод\n",
      "\n",
      "trallalero trallala\n",
      "\n",
      "========================================\n",
      "\n"
     ]
    }
   ],
   "source": [
    "delimeter = '='\n",
    "\n",
    "print(f\"\"\"\n",
    "{delimeter * 40}\n",
    "красивый многострочный вывод\n",
    "\n",
    "trallalero trallala\n",
    "\n",
    "{delimeter * 40}\n",
    "\"\"\")"
   ]
  },
  {
   "cell_type": "code",
   "execution_count": 1,
   "id": "e475ce77",
   "metadata": {},
   "outputs": [],
   "source": [
    "# TODO сделай что-нибудь прикольное"
   ]
  },
  {
   "cell_type": "markdown",
   "id": "38e9a6cd",
   "metadata": {},
   "source": [
    "#### Время и дата\n",
    "\n",
    "Работать со временем позволяет модуль `datetime.datetime`, в нём пока рассмотрим метод\n",
    "- `.now()` - получить текущее время в типе данных `datetime`\n",
    "\n",
    "импортируется модуль вот такой строчкой"
   ]
  },
  {
   "cell_type": "code",
   "execution_count": 19,
   "id": "2e6d28cd",
   "metadata": {},
   "outputs": [
    {
     "data": {
      "text/plain": [
       "datetime.datetime(2025, 9, 4, 16, 9, 17, 740453)"
      ]
     },
     "execution_count": 19,
     "metadata": {},
     "output_type": "execute_result"
    }
   ],
   "source": [
    "from datetime import datetime\n",
    "datetime.now()"
   ]
  },
  {
   "cell_type": "markdown",
   "id": "9df887e4",
   "metadata": {},
   "source": [
    "У этого объекта есть метод `.strftime()` в котором можно задать формат вывода времени\n",
    "\n",
    "Можете навести курсор и посмотреть описание и примеры формата"
   ]
  },
  {
   "cell_type": "code",
   "execution_count": 46,
   "id": "0e3736e1",
   "metadata": {},
   "outputs": [
    {
     "data": {
      "text/plain": [
       "'15.08.2025 лабубу 18:31:46'"
      ]
     },
     "execution_count": 46,
     "metadata": {},
     "output_type": "execute_result"
    }
   ],
   "source": [
    "datetime.now().strftime(\"%d.%m.%Y лабубу %H:%M:%S\")"
   ]
  },
  {
   "cell_type": "code",
   "execution_count": null,
   "id": "3e591ab4",
   "metadata": {},
   "outputs": [
    {
     "data": {
      "text/plain": [
       "'время в стране лабубу:\\n15.08.2025 лабубу 19:35:41'"
      ]
     },
     "execution_count": 3,
     "metadata": {},
     "output_type": "execute_result"
    }
   ],
   "source": [
    "f\"\"\"время в стране лабубу:\n",
    "{datetime.now().strftime(\"%d.%m.%Y лабубу %H:%M:%S\")}\"\"\""
   ]
  },
  {
   "cell_type": "markdown",
   "id": "28c2c3e0",
   "metadata": {},
   "source": [
    "Как и любой объект, его можно сохранить в переменную и юзать потом"
   ]
  },
  {
   "cell_type": "code",
   "execution_count": 44,
   "id": "88b8f3ce",
   "metadata": {},
   "outputs": [],
   "source": [
    "t1 = datetime.now()"
   ]
  },
  {
   "cell_type": "code",
   "execution_count": 47,
   "id": "18663aa3",
   "metadata": {},
   "outputs": [
    {
     "data": {
      "text/plain": [
       "'15.08.2025 18:29:54'"
      ]
     },
     "execution_count": 47,
     "metadata": {},
     "output_type": "execute_result"
    }
   ],
   "source": [
    "t1.strftime(\"%d.%m.%Y %H:%M:%S\")"
   ]
  },
  {
   "cell_type": "code",
   "execution_count": 30,
   "id": "017ab09d",
   "metadata": {},
   "outputs": [],
   "source": [
    "t2 = datetime.now()"
   ]
  },
  {
   "cell_type": "code",
   "execution_count": 48,
   "id": "89b632b1",
   "metadata": {},
   "outputs": [
    {
     "data": {
      "text/plain": [
       "'15.08.2025 18:08:39'"
      ]
     },
     "execution_count": 48,
     "metadata": {},
     "output_type": "execute_result"
    }
   ],
   "source": [
    "t2.strftime(\"%d.%m.%Y %H:%M:%S\")"
   ]
  },
  {
   "cell_type": "code",
   "execution_count": 24,
   "id": "f1cb32c5",
   "metadata": {},
   "outputs": [
    {
     "data": {
      "text/plain": [
       "'начало: 04.09.2025 16:13:48\\n    конец: 04.09.2025 16:13:48\\n    длительность: 0:00:00.000120'"
      ]
     },
     "execution_count": 24,
     "metadata": {},
     "output_type": "execute_result"
    }
   ],
   "source": [
    "# TODO засеките время выполнения куска программы и выведите во сколько она началось выполнение, во сколько закончилось, и сколько длилось\n",
    "d1 = datetime.now()\n",
    "for i in range(100):\n",
    "    a=100\n",
    "d2 = datetime.now()\n",
    "d = d2-d1\n",
    "f\"\"\"начало: {d1.strftime(\"%d.%m.%Y %H:%M:%S\")}\n",
    "    конец: {d2.strftime(\"%d.%m.%Y %H:%M:%S\")}\n",
    "    длительность: {d}\"\"\""
   ]
  }
 ],
 "metadata": {
  "kernelspec": {
   "display_name": "Python 3",
   "language": "python",
   "name": "python3"
  },
  "language_info": {
   "codemirror_mode": {
    "name": "ipython",
    "version": 3
   },
   "file_extension": ".py",
   "mimetype": "text/x-python",
   "name": "python",
   "nbconvert_exporter": "python",
   "pygments_lexer": "ipython3",
   "version": "3.13.7"
  }
 },
 "nbformat": 4,
 "nbformat_minor": 5
}
