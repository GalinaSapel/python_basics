{
 "cells": [
  {
   "cell_type": "code",
   "execution_count": 1,
   "id": "5fd746b3",
   "metadata": {},
   "outputs": [
    {
     "name": "stdout",
     "output_type": "stream",
     "text": [
      "hello, world\n"
     ]
    }
   ],
   "source": [
    "print ('hello, world')"
   ]
  },
  {
   "cell_type": "markdown",
   "id": "098ee1c7",
   "metadata": {},
   "source": [
    "# Основы"
   ]
  },
  {
   "cell_type": "code",
   "execution_count": null,
   "id": "06c69d90",
   "metadata": {},
   "outputs": [],
   "source": [
    "Базовый Питон"
   ]
  },
  {
   "cell_type": "code",
   "execution_count": null,
   "id": "9e148dae",
   "metadata": {},
   "outputs": [],
   "source": []
  },
  {
   "cell_type": "code",
   "execution_count": 4,
   "id": "eb31d55b",
   "metadata": {},
   "outputs": [],
   "source": [
    "# Базовый Питон"
   ]
  }
 ],
 "metadata": {
  "kernelspec": {
   "display_name": "Python 3",
   "language": "python",
   "name": "python3"
  },
  "language_info": {
   "codemirror_mode": {
    "name": "ipython",
    "version": 3
   },
   "file_extension": ".py",
   "mimetype": "text/x-python",
   "name": "python",
   "nbconvert_exporter": "python",
   "pygments_lexer": "ipython3",
   "version": "3.13.7"
  }
 },
 "nbformat": 4,
 "nbformat_minor": 5
}
